{
 "cells": [
  {
   "cell_type": "code",
   "execution_count": 1,
   "id": "a62c604c-86ee-4b0b-8733-84c2a2221531",
   "metadata": {},
   "outputs": [],
   "source": [
    "import pandas as pd\n",
    "import yfinance as yf\n",
    "from sklearn.preprocessing import MinMaxScaler\n",
    "from sklearn.metrics import mean_squared_error, mean_absolute_percentage_error\n",
    "from statsmodels.tsa.statespace.varmax import VARMAX\n",
    "import matplotlib.pyplot as plt\n",
    "import warnings\n",
    "warnings.filterwarnings(\"ignore\")"
   ]
  },
  {
   "cell_type": "code",
   "execution_count": 2,
   "id": "4de16e4e-9a32-47b2-87c0-970039a24b5d",
   "metadata": {},
   "outputs": [
    {
     "name": "stderr",
     "output_type": "stream",
     "text": [
      "[*********************100%***********************]  1 of 1 completed"
     ]
    },
    {
     "name": "stdout",
     "output_type": "stream",
     "text": [
      "Price             Close         High         Low         Open      Volume\n",
      "Ticker      RELIANCE.NS  RELIANCE.NS RELIANCE.NS  RELIANCE.NS RELIANCE.NS\n",
      "Date                                                                     \n",
      "2021-06-01   987.374939  1002.443448  977.177463   986.054707    28013832\n",
      "2021-06-02  1002.101990  1005.857738  981.957502   981.957502    24630162\n",
      "2021-06-03  1005.925903  1024.294928  999.757398  1011.092856    23974257\n",
      "2021-06-04   997.208069  1009.021575  994.362780  1008.270425    14468646\n",
      "2021-06-07  1014.006409  1020.652962  994.704167  1002.443306    16336573\n"
     ]
    },
    {
     "name": "stderr",
     "output_type": "stream",
     "text": [
      "\n"
     ]
    }
   ],
   "source": [
    "stk_data = yf.download(\"RELIANCE.NS\", start=\"2021-06-01\", end=\"2022-05-01\")\n",
    "print(stk_data.head())"
   ]
  },
  {
   "cell_type": "code",
   "execution_count": 3,
   "id": "3339c087-701e-4ae8-9514-64440230d6b2",
   "metadata": {},
   "outputs": [
    {
     "name": "stdout",
     "output_type": "stream",
     "text": [
      "Data fetched successfully!\n",
      "                  Close         High         Low         Open    Volume\n",
      "Date                                                                   \n",
      "2021-06-01   987.374939  1002.443448  977.177463   986.054707  28013832\n",
      "2021-06-02  1002.101990  1005.857738  981.957502   981.957502  24630162\n",
      "2021-06-03  1005.925903  1024.294928  999.757398  1011.092856  23974257\n",
      "2021-06-04   997.208069  1009.021575  994.362780  1008.270425  14468646\n",
      "2021-06-07  1014.006409  1020.652962  994.704167  1002.443306  16336573\n"
     ]
    }
   ],
   "source": [
    "dataset = pd.read_csv(\"reliance_data.csv\", skiprows=1)\n",
    "import pandas as pd\n",
    "# Flatten column MultiIndex if exists\n",
    "if isinstance(stk_data.columns, pd.MultiIndex):\n",
    "    stk_data.columns = [col[0] for col in stk_data.columns]\n",
    "\n",
    "# Check data\n",
    "print(\"Data fetched successfully!\")\n",
    "print(stk_data.head())"
   ]
  },
  {
   "cell_type": "code",
   "execution_count": 4,
   "id": "616d6d84-c8dc-43cb-9015-82b53994da1c",
   "metadata": {},
   "outputs": [
    {
     "data": {
      "text/html": [
       "<div>\n",
       "<style scoped>\n",
       "    .dataframe tbody tr th:only-of-type {\n",
       "        vertical-align: middle;\n",
       "    }\n",
       "\n",
       "    .dataframe tbody tr th {\n",
       "        vertical-align: top;\n",
       "    }\n",
       "\n",
       "    .dataframe thead th {\n",
       "        text-align: right;\n",
       "    }\n",
       "</style>\n",
       "<table border=\"1\" class=\"dataframe\">\n",
       "  <thead>\n",
       "    <tr style=\"text-align: right;\">\n",
       "      <th></th>\n",
       "      <th>Open</th>\n",
       "      <th>High</th>\n",
       "      <th>Low</th>\n",
       "      <th>Close</th>\n",
       "    </tr>\n",
       "    <tr>\n",
       "      <th>Date</th>\n",
       "      <th></th>\n",
       "      <th></th>\n",
       "      <th></th>\n",
       "      <th></th>\n",
       "    </tr>\n",
       "  </thead>\n",
       "  <tbody>\n",
       "    <tr>\n",
       "      <th>2021-06-01</th>\n",
       "      <td>986.054707</td>\n",
       "      <td>1002.443448</td>\n",
       "      <td>977.177463</td>\n",
       "      <td>987.374939</td>\n",
       "    </tr>\n",
       "    <tr>\n",
       "      <th>2021-06-02</th>\n",
       "      <td>981.957502</td>\n",
       "      <td>1005.857738</td>\n",
       "      <td>981.957502</td>\n",
       "      <td>1002.101990</td>\n",
       "    </tr>\n",
       "    <tr>\n",
       "      <th>2021-06-03</th>\n",
       "      <td>1011.092856</td>\n",
       "      <td>1024.294928</td>\n",
       "      <td>999.757398</td>\n",
       "      <td>1005.925903</td>\n",
       "    </tr>\n",
       "    <tr>\n",
       "      <th>2021-06-04</th>\n",
       "      <td>1008.270425</td>\n",
       "      <td>1009.021575</td>\n",
       "      <td>994.362780</td>\n",
       "      <td>997.208069</td>\n",
       "    </tr>\n",
       "    <tr>\n",
       "      <th>2021-06-07</th>\n",
       "      <td>1002.443306</td>\n",
       "      <td>1020.652962</td>\n",
       "      <td>994.704167</td>\n",
       "      <td>1014.006409</td>\n",
       "    </tr>\n",
       "    <tr>\n",
       "      <th>...</th>\n",
       "      <td>...</td>\n",
       "      <td>...</td>\n",
       "      <td>...</td>\n",
       "      <td>...</td>\n",
       "    </tr>\n",
       "    <tr>\n",
       "      <th>2022-04-25</th>\n",
       "      <td>1252.808769</td>\n",
       "      <td>1260.117952</td>\n",
       "      <td>1216.833432</td>\n",
       "      <td>1231.155029</td>\n",
       "    </tr>\n",
       "    <tr>\n",
       "      <th>2022-04-26</th>\n",
       "      <td>1238.007307</td>\n",
       "      <td>1276.837847</td>\n",
       "      <td>1236.956647</td>\n",
       "      <td>1267.998169</td>\n",
       "    </tr>\n",
       "    <tr>\n",
       "      <th>2022-04-27</th>\n",
       "      <td>1258.952988</td>\n",
       "      <td>1291.913249</td>\n",
       "      <td>1258.587463</td>\n",
       "      <td>1269.231689</td>\n",
       "    </tr>\n",
       "    <tr>\n",
       "      <th>2022-04-28</th>\n",
       "      <td>1283.667576</td>\n",
       "      <td>1302.420431</td>\n",
       "      <td>1272.772133</td>\n",
       "      <td>1288.190186</td>\n",
       "    </tr>\n",
       "    <tr>\n",
       "      <th>2022-04-29</th>\n",
       "      <td>1304.773147</td>\n",
       "      <td>1304.773147</td>\n",
       "      <td>1268.752134</td>\n",
       "      <td>1274.668091</td>\n",
       "    </tr>\n",
       "  </tbody>\n",
       "</table>\n",
       "<p>228 rows × 4 columns</p>\n",
       "</div>"
      ],
      "text/plain": [
       "                   Open         High          Low        Close\n",
       "Date                                                          \n",
       "2021-06-01   986.054707  1002.443448   977.177463   987.374939\n",
       "2021-06-02   981.957502  1005.857738   981.957502  1002.101990\n",
       "2021-06-03  1011.092856  1024.294928   999.757398  1005.925903\n",
       "2021-06-04  1008.270425  1009.021575   994.362780   997.208069\n",
       "2021-06-07  1002.443306  1020.652962   994.704167  1014.006409\n",
       "...                 ...          ...          ...          ...\n",
       "2022-04-25  1252.808769  1260.117952  1216.833432  1231.155029\n",
       "2022-04-26  1238.007307  1276.837847  1236.956647  1267.998169\n",
       "2022-04-27  1258.952988  1291.913249  1258.587463  1269.231689\n",
       "2022-04-28  1283.667576  1302.420431  1272.772133  1288.190186\n",
       "2022-04-29  1304.773147  1304.773147  1268.752134  1274.668091\n",
       "\n",
       "[228 rows x 4 columns]"
      ]
     },
     "execution_count": 4,
     "metadata": {},
     "output_type": "execute_result"
    }
   ],
   "source": [
    "stk_data=stk_data[[\"Open\",\"High\",\"Low\",\"Close\"]]\n",
    "stk_data"
   ]
  },
  {
   "cell_type": "code",
   "execution_count": 5,
   "id": "2a23cc8c-d23c-4dcd-8aef-22043527dbc9",
   "metadata": {},
   "outputs": [],
   "source": [
    "scaler = MinMaxScaler()\n",
    "data_scaled = pd.DataFrame(scaler.fit_transform(stk_data), columns=stk_data.columns, index=stk_data.index)"
   ]
  },
  {
   "cell_type": "code",
   "execution_count": 6,
   "id": "d4ba238a-cfbc-4177-99c2-7b1a35a6e4c1",
   "metadata": {},
   "outputs": [],
   "source": [
    "train_size = int(len(data_scaled) * 0.8)\n",
    "train = data_scaled.iloc[:train_size]\n",
    "test = data_scaled.iloc[train_size:]"
   ]
  },
  {
   "cell_type": "code",
   "execution_count": 7,
   "id": "fb7a003f-1586-4cc5-8f1e-7483a7f8125a",
   "metadata": {},
   "outputs": [],
   "source": [
    "try:\n",
    "    model = VARMAX(train, order=(1, 1))  # VARMA(1,1) style\n",
    "    model_fit = model.fit(disp=False)\n",
    "except Exception as e:\n",
    "    print(\"Error fitting VARMAX(1,1):\", e)\n",
    "    model = VARMAX(train, order=(1, 0))  # fallback to VAR(1)\n",
    "    model_fit = model.fit(disp=False)\n"
   ]
  },
  {
   "cell_type": "code",
   "execution_count": 8,
   "id": "ceea9b37-7ebc-4690-a6ec-8b7c409d8cd5",
   "metadata": {},
   "outputs": [],
   "source": [
    "start = len(train)\n",
    "end = len(data_scaled) - 1\n",
    "pred_scaled = model_fit.predict(start=start, end=end)"
   ]
  },
  {
   "cell_type": "code",
   "execution_count": 9,
   "id": "a4ec360e-de3a-4129-9d82-90a10e135a77",
   "metadata": {},
   "outputs": [],
   "source": [
    "pred_orig = scaler.inverse_transform(pred_scaled)\n",
    "test_orig = scaler.inverse_transform(test)"
   ]
  },
  {
   "cell_type": "code",
   "execution_count": 10,
   "id": "035d6770-92d5-4dea-a034-2ceb33863c5d",
   "metadata": {},
   "outputs": [],
   "source": [
    "pred_df = pd.DataFrame(pred_orig, columns=stk_data.columns, index=test.index)\n",
    "test_df = pd.DataFrame(test_orig, columns=stk_data.columns, index=test.index)"
   ]
  },
  {
   "cell_type": "code",
   "execution_count": 11,
   "id": "91d55bfe-084e-41b4-a74e-de5d11fdde45",
   "metadata": {},
   "outputs": [
    {
     "name": "stdout",
     "output_type": "stream",
     "text": [
      "Open - RMSE: 96.62, MAPE: 6.74%\n",
      "High - RMSE: 100.11, MAPE: 6.78%\n",
      "Low - RMSE: 97.90, MAPE: 6.94%\n",
      "Close - RMSE: 100.08, MAPE: 6.92%\n"
     ]
    }
   ],
   "source": [
    "for col in stk_data.columns:\n",
    "    rmse = mean_squared_error(test_df[col], pred_df[col], squared=False)\n",
    "    mape = mean_absolute_percentage_error(test_df[col], pred_df[col]) * 100\n",
    "    print(f\"{col} - RMSE: {rmse:.2f}, MAPE: {mape:.2f}%\")\n"
   ]
  },
  {
   "cell_type": "code",
   "execution_count": 12,
   "id": "389032d0-df06-4e98-890d-ab5571a8add5",
   "metadata": {},
   "outputs": [
    {
     "data": {
      "image/png": "[encoded data removed]",
      "text/plain": [
       "<Figure size 1200x600 with 1 Axes>"
      ]
     },
     "metadata": {},
     "output_type": "display_data"
    }
   ],
   "source": [
    "plt.figure(figsize=(12, 6))\n",
    "plt.plot(test_df[\"Close\"], label=\"Actual Close\")\n",
    "plt.plot(pred_df[\"Close\"], label=\"Predicted Close\", linestyle='--')\n",
    "plt.title(\"VARMAX(1,1) Model - Close Price Forecast\")\n",
    "plt.xlabel(\"Date\")\n",
    "plt.ylabel(\"Price\")\n",
    "plt.legend()\n",
    "plt.grid(True)\n",
    "plt.show()"
   ]
  },
  {
   "cell_type": "code",
   "execution_count": null,
   "id": "fdb68555-5bf7-419d-b67c-312849f37b4e",
   "metadata": {},
   "outputs": [],
   "source": []
  }
 ],
 "metadata": {
  "kernelspec": {
   "display_name": "Python 3 (ipykernel)",
   "language": "python",
   "name": "python3"
  },
  "language_info": {
   "codemirror_mode": {
    "name": "ipython",
    "version": 3
   },
   "file_extension": ".py",
   "mimetype": "text/x-python",
   "name": "python",
   "nbconvert_exporter": "python",
   "pygments_lexer": "ipython3",
   "version": "3.11.5"
  }
 },
 "nbformat": 4,
 "nbformat_minor": 5
}
