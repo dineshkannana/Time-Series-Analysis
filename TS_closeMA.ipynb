{
 "cells": [
  {
   "cell_type": "code",
   "execution_count": 1,
   "id": "b3d30c52-b453-4341-b6db-3474079ad90c",
   "metadata": {},
   "outputs": [
    {
     "name": "stderr",
     "output_type": "stream",
     "text": [
      "C:\\Users\\tiruk\\AppData\\Local\\Temp\\ipykernel_15524\\620575181.py:3: FutureWarning: YF.download() has changed argument auto_adjust default to True\n",
      "  stk_data = yf.download(\"RELIANCE.NS\", start=\"2021-06-01\", end=\"2022-05-01\")\n",
      "[*********************100%***********************]  1 of 1 completed"
     ]
    },
    {
     "name": "stdout",
     "output_type": "stream",
     "text": [
      "Price             Close         High         Low         Open      Volume\n",
      "Ticker      RELIANCE.NS  RELIANCE.NS RELIANCE.NS  RELIANCE.NS RELIANCE.NS\n",
      "Date                                                                     \n",
      "2021-06-01   987.374878  1002.443386  977.177403   986.054647    28013832\n",
      "2021-06-02  1002.101929  1005.857676  981.957442   981.957442    24630162\n",
      "2021-06-03  1005.925903  1024.294928  999.757398  1011.092856    23974257\n",
      "2021-06-04   997.208069  1009.021575  994.362780  1008.270425    14468646\n",
      "2021-06-07  1014.006531  1020.653085  994.704287  1002.443427    16336573\n"
     ]
    },
    {
     "name": "stderr",
     "output_type": "stream",
     "text": [
      "\n"
     ]
    }
   ],
   "source": [
    "import pandas as pd\n",
    "import yfinance as yf\n",
    "stk_data = yf.download(\"RELIANCE.NS\", start=\"2021-06-01\", end=\"2022-05-01\")\n",
    "print(stk_data.head())"
   ]
  },
  {
   "cell_type": "code",
   "execution_count": 3,
   "id": "54e1af29-a16d-47f5-b3de-b729f784a2db",
   "metadata": {},
   "outputs": [],
   "source": [
    "dataset = pd.read_csv(\"reliance_data.csv\", skiprows=1)"
   ]
  },
  {
   "cell_type": "code",
   "execution_count": 4,
   "id": "35c855cd-ae44-42d8-8391-93dc501864fa",
   "metadata": {},
   "outputs": [
    {
     "name": "stdout",
     "output_type": "stream",
     "text": [
      "Data fetched successfully!\n",
      "                  Close         High         Low         Open    Volume\n",
      "Date                                                                   \n",
      "2021-06-01   987.374878  1002.443386  977.177403   986.054647  28013832\n",
      "2021-06-02  1002.101929  1005.857676  981.957442   981.957442  24630162\n",
      "2021-06-03  1005.925903  1024.294928  999.757398  1011.092856  23974257\n",
      "2021-06-04   997.208069  1009.021575  994.362780  1008.270425  14468646\n",
      "2021-06-07  1014.006531  1020.653085  994.704287  1002.443427  16336573\n"
     ]
    }
   ],
   "source": [
    "import pandas as pd\n",
    "# Flatten column MultiIndex if exists\n",
    "if isinstance(stk_data.columns, pd.MultiIndex):\n",
    "    stk_data.columns = [col[0] for col in stk_data.columns]\n",
    "\n",
    "# Check data\n",
    "print(\"Data fetched successfully!\")\n",
    "print(stk_data.head())"
   ]
  },
  {
   "cell_type": "code",
   "execution_count": 5,
   "id": "054ac423-d66d-49de-b73f-1cfd29322d36",
   "metadata": {},
   "outputs": [
    {
     "data": {
      "text/html": [
       "<div>\n",
       "<style scoped>\n",
       "    .dataframe tbody tr th:only-of-type {\n",
       "        vertical-align: middle;\n",
       "    }\n",
       "\n",
       "    .dataframe tbody tr th {\n",
       "        vertical-align: top;\n",
       "    }\n",
       "\n",
       "    .dataframe thead th {\n",
       "        text-align: right;\n",
       "    }\n",
       "</style>\n",
       "<table border=\"1\" class=\"dataframe\">\n",
       "  <thead>\n",
       "    <tr style=\"text-align: right;\">\n",
       "      <th></th>\n",
       "      <th>Close</th>\n",
       "      <th>High</th>\n",
       "      <th>Low</th>\n",
       "      <th>Open</th>\n",
       "      <th>Volume</th>\n",
       "    </tr>\n",
       "    <tr>\n",
       "      <th>Date</th>\n",
       "      <th></th>\n",
       "      <th></th>\n",
       "      <th></th>\n",
       "      <th></th>\n",
       "      <th></th>\n",
       "    </tr>\n",
       "  </thead>\n",
       "  <tbody>\n",
       "    <tr>\n",
       "      <th>2021-06-01</th>\n",
       "      <td>987.374878</td>\n",
       "      <td>1002.443386</td>\n",
       "      <td>977.177403</td>\n",
       "      <td>986.054647</td>\n",
       "      <td>28013832</td>\n",
       "    </tr>\n",
       "    <tr>\n",
       "      <th>2021-06-02</th>\n",
       "      <td>1002.101929</td>\n",
       "      <td>1005.857676</td>\n",
       "      <td>981.957442</td>\n",
       "      <td>981.957442</td>\n",
       "      <td>24630162</td>\n",
       "    </tr>\n",
       "    <tr>\n",
       "      <th>2021-06-03</th>\n",
       "      <td>1005.925903</td>\n",
       "      <td>1024.294928</td>\n",
       "      <td>999.757398</td>\n",
       "      <td>1011.092856</td>\n",
       "      <td>23974257</td>\n",
       "    </tr>\n",
       "    <tr>\n",
       "      <th>2021-06-04</th>\n",
       "      <td>997.208069</td>\n",
       "      <td>1009.021575</td>\n",
       "      <td>994.362780</td>\n",
       "      <td>1008.270425</td>\n",
       "      <td>14468646</td>\n",
       "    </tr>\n",
       "    <tr>\n",
       "      <th>2021-06-07</th>\n",
       "      <td>1014.006531</td>\n",
       "      <td>1020.653085</td>\n",
       "      <td>994.704287</td>\n",
       "      <td>1002.443427</td>\n",
       "      <td>16336573</td>\n",
       "    </tr>\n",
       "    <tr>\n",
       "      <th>...</th>\n",
       "      <td>...</td>\n",
       "      <td>...</td>\n",
       "      <td>...</td>\n",
       "      <td>...</td>\n",
       "      <td>...</td>\n",
       "    </tr>\n",
       "    <tr>\n",
       "      <th>2022-04-25</th>\n",
       "      <td>1231.155029</td>\n",
       "      <td>1260.117952</td>\n",
       "      <td>1216.833432</td>\n",
       "      <td>1252.808769</td>\n",
       "      <td>17063215</td>\n",
       "    </tr>\n",
       "    <tr>\n",
       "      <th>2022-04-26</th>\n",
       "      <td>1267.998291</td>\n",
       "      <td>1276.837970</td>\n",
       "      <td>1236.956766</td>\n",
       "      <td>1238.007426</td>\n",
       "      <td>12227666</td>\n",
       "    </tr>\n",
       "    <tr>\n",
       "      <th>2022-04-27</th>\n",
       "      <td>1269.231689</td>\n",
       "      <td>1291.913249</td>\n",
       "      <td>1258.587463</td>\n",
       "      <td>1258.952988</td>\n",
       "      <td>19338945</td>\n",
       "    </tr>\n",
       "    <tr>\n",
       "      <th>2022-04-28</th>\n",
       "      <td>1288.190186</td>\n",
       "      <td>1302.420431</td>\n",
       "      <td>1272.772133</td>\n",
       "      <td>1283.667576</td>\n",
       "      <td>25614076</td>\n",
       "    </tr>\n",
       "    <tr>\n",
       "      <th>2022-04-29</th>\n",
       "      <td>1274.668091</td>\n",
       "      <td>1304.773147</td>\n",
       "      <td>1268.752134</td>\n",
       "      <td>1304.773147</td>\n",
       "      <td>18214862</td>\n",
       "    </tr>\n",
       "  </tbody>\n",
       "</table>\n",
       "<p>228 rows × 5 columns</p>\n",
       "</div>"
      ],
      "text/plain": [
       "                  Close         High          Low         Open    Volume\n",
       "Date                                                                    \n",
       "2021-06-01   987.374878  1002.443386   977.177403   986.054647  28013832\n",
       "2021-06-02  1002.101929  1005.857676   981.957442   981.957442  24630162\n",
       "2021-06-03  1005.925903  1024.294928   999.757398  1011.092856  23974257\n",
       "2021-06-04   997.208069  1009.021575   994.362780  1008.270425  14468646\n",
       "2021-06-07  1014.006531  1020.653085   994.704287  1002.443427  16336573\n",
       "...                 ...          ...          ...          ...       ...\n",
       "2022-04-25  1231.155029  1260.117952  1216.833432  1252.808769  17063215\n",
       "2022-04-26  1267.998291  1276.837970  1236.956766  1238.007426  12227666\n",
       "2022-04-27  1269.231689  1291.913249  1258.587463  1258.952988  19338945\n",
       "2022-04-28  1288.190186  1302.420431  1272.772133  1283.667576  25614076\n",
       "2022-04-29  1274.668091  1304.773147  1268.752134  1304.773147  18214862\n",
       "\n",
       "[228 rows x 5 columns]"
      ]
     },
     "execution_count": 5,
     "metadata": {},
     "output_type": "execute_result"
    }
   ],
   "source": [
    "stk_data"
   ]
  },
  {
   "cell_type": "code",
   "execution_count": 6,
   "id": "7b5f9d77-0a7b-4229-bf7b-f28a5e048c63",
   "metadata": {},
   "outputs": [],
   "source": [
    "column=\"Close\""
   ]
  },
  {
   "cell_type": "code",
   "execution_count": 7,
   "id": "78162979-90a2-487f-a6a8-08674e7d5907",
   "metadata": {},
   "outputs": [
    {
     "name": "stdout",
     "output_type": "stream",
     "text": [
      "Len: (228, 1)\n"
     ]
    }
   ],
   "source": [
    "from sklearn.preprocessing import MinMaxScaler\n",
    "Ms = MinMaxScaler()\n",
    "data1= Ms.fit_transform(stk_data[[column]])\n",
    "print(\"Len:\",data1.shape)"
   ]
  },
  {
   "cell_type": "code",
   "execution_count": 8,
   "id": "2ab6b372-aa88-4faa-a6ad-f8093132eb76",
   "metadata": {},
   "outputs": [
    {
     "name": "stdout",
     "output_type": "stream",
     "text": [
      "217\n",
      "X_train length: (217, 1)\n",
      "X_test length: (11, 1)\n",
      "y_train length: (217, 1)\n",
      "y_test length: (11, 1)\n"
     ]
    }
   ],
   "source": [
    "training_size = round(len(data1 ) * 0.95)\n",
    "print(training_size)\n",
    "X_train=data1[:training_size]\n",
    "X_test=data1[training_size:]\n",
    "print(\"X_train length:\",X_train.shape)\n",
    "print(\"X_test length:\",X_test.shape)\n",
    "y_train=data1[:training_size]\n",
    "y_test=data1[training_size:]\n",
    "print(\"y_train length:\",y_train.shape)\n",
    "print(\"y_test length:\",y_test.shape)"
   ]
  },
  {
   "cell_type": "code",
   "execution_count": 9,
   "id": "08302df2-4453-463a-a2e2-a40981772c3e",
   "metadata": {},
   "outputs": [],
   "source": [
    "import warnings\n",
    "warnings.filterwarnings(\"ignore\")"
   ]
  },
  {
   "cell_type": "code",
   "execution_count": 10,
   "id": "54db21b3-f295-4e74-94cb-40e96168c6b8",
   "metadata": {},
   "outputs": [
    {
     "name": "stderr",
     "output_type": "stream",
     "text": [
      "C:\\Anaconda3\\envs\\dineshML\\Lib\\site-packages\\statsmodels\\base\\model.py:607: ConvergenceWarning: Maximum Likelihood optimization failed to converge. Check mle_retvals\n",
      "  warnings.warn(\"Maximum Likelihood optimization failed to \"\n"
     ]
    },
    {
     "name": "stdout",
     "output_type": "stream",
     "text": [
      "Trend=n\n",
      "RMSE-Testset: 0.7603338063462776\n",
      "maPe-Testset: 0.7628227940628908\n",
      "************\n"
     ]
    },
    {
     "name": "stderr",
     "output_type": "stream",
     "text": [
      "C:\\Anaconda3\\envs\\dineshML\\Lib\\site-packages\\statsmodels\\base\\model.py:607: ConvergenceWarning: Maximum Likelihood optimization failed to converge. Check mle_retvals\n",
      "  warnings.warn(\"Maximum Likelihood optimization failed to \"\n"
     ]
    },
    {
     "name": "stdout",
     "output_type": "stream",
     "text": [
      "Trend=t\n",
      "RMSE-Testset: 0.17645762938611045\n",
      "maPe-Testset: 0.16967429263411593\n",
      "************\n"
     ]
    },
    {
     "name": "stderr",
     "output_type": "stream",
     "text": [
      "C:\\Anaconda3\\envs\\dineshML\\Lib\\site-packages\\statsmodels\\base\\model.py:607: ConvergenceWarning: Maximum Likelihood optimization failed to converge. Check mle_retvals\n",
      "  warnings.warn(\"Maximum Likelihood optimization failed to \"\n"
     ]
    },
    {
     "name": "stdout",
     "output_type": "stream",
     "text": [
      "Trend=c\n",
      "RMSE-Testset: 0.43042172742115736\n",
      "maPe-Testset: 0.429858184207978\n",
      "************\n",
      "Trend=ct\n",
      "RMSE-Testset: 0.23503416438527872\n",
      "maPe-Testset: 0.2265820914008134\n",
      "************\n"
     ]
    },
    {
     "name": "stderr",
     "output_type": "stream",
     "text": [
      "C:\\Anaconda3\\envs\\dineshML\\Lib\\site-packages\\statsmodels\\base\\model.py:607: ConvergenceWarning: Maximum Likelihood optimization failed to converge. Check mle_retvals\n",
      "  warnings.warn(\"Maximum Likelihood optimization failed to \"\n"
     ]
    }
   ],
   "source": [
    "from sklearn.metrics import mean_squared_error\n",
    "trends=['n','t','c','ct']\n",
    "orders=[(0,0,1),(0,0,2)]\n",
    "from statsmodels.tsa.arima.model import ARIMA\n",
    "for td in trends:\n",
    "        \n",
    "        #print(td)\n",
    "        #trendslist.append(td)\n",
    "    model = ARIMA(X_train, order=(0,0,10),trend=td,)\n",
    "    model_fit = model.fit()\n",
    "        # make prediction\n",
    "    y_pred= model_fit.predict(len(X_train), len(data1)-1)\n",
    "        #print(y_pred)\n",
    "    from sklearn.metrics import r2_score\n",
    "    mse=mean_squared_error(y_test,y_pred,squared=False)\n",
    "    from stockFunctions import rmsemape\n",
    "    print(\"Trend={}\".format(td))\n",
    "    rmsemape(y_test,y_pred)\n",
    "    print(\"************\")"
   ]
  },
  {
   "cell_type": "code",
   "execution_count": 11,
   "id": "4cc930cf-489f-4bf6-91bf-6cd1d3ba0daf",
   "metadata": {},
   "outputs": [
    {
     "data": {
      "text/plain": [
       "11"
      ]
     },
     "execution_count": 11,
     "metadata": {},
     "output_type": "execute_result"
    }
   ],
   "source": [
    "len(y_pred)"
   ]
  },
  {
   "cell_type": "code",
   "execution_count": 12,
   "id": "d27bd873-4e97-4c91-9231-3029d6b8c0e1",
   "metadata": {},
   "outputs": [
    {
     "name": "stderr",
     "output_type": "stream",
     "text": [
      "C:\\Anaconda3\\envs\\dineshML\\Lib\\site-packages\\statsmodels\\base\\model.py:607: ConvergenceWarning: Maximum Likelihood optimization failed to converge. Check mle_retvals\n",
      "  warnings.warn(\"Maximum Likelihood optimization failed to \"\n"
     ]
    },
    {
     "name": "stdout",
     "output_type": "stream",
     "text": [
      "Trend=c\n",
      "RMSE-Testset: 0.4189655933213481\n",
      "maPe-Testset: 0.4142711515675945\n",
      "************\n"
     ]
    }
   ],
   "source": [
    "#i=1\n",
    "td=\"c\"\n",
    "model = ARIMA(X_train, order=(0,0,30),trend=td)\n",
    "model_fit = model.fit()\n",
    "# make prediction\n",
    "y_pred= model_fit.predict(len(X_train), len(data1)-1)\n",
    "#print(y_pred)\n",
    "from sklearn.metrics import r2_score\n",
    "mse=mean_squared_error(y_test,y_pred,squared=False)\n",
    "from stockFunctions import rmsemape\n",
    "print(\"Trend={}\".format(td))\n",
    "rmsemape(y_test,y_pred)\n",
    "print(\"************\")"
   ]
  },
  {
   "cell_type": "code",
   "execution_count": 13,
   "id": "ed373c23-f7a4-420b-b9cc-0b97f72f904a",
   "metadata": {},
   "outputs": [
    {
     "data": {
      "image/png": "[encoded data removed]",
      "text/plain": [
       "<Figure size 1000x500 with 1 Axes>"
      ]
     },
     "metadata": {},
     "output_type": "display_data"
    }
   ],
   "source": [
    "from stockFunctions import graph\n",
    "graph(y_test,y_pred,\"Actual\",\"Predicted\",\"Reliance_close_MA_Norm\",\"Days\",\"Prices\")"
   ]
  },
  {
   "cell_type": "code",
   "execution_count": 14,
   "id": "a3ac5a03-0120-449a-9653-6c2f7200701b",
   "metadata": {},
   "outputs": [
    {
     "data": {
      "text/plain": [
       "228"
      ]
     },
     "execution_count": 14,
     "metadata": {},
     "output_type": "execute_result"
    }
   ],
   "source": [
    "len(data1)"
   ]
  },
  {
   "cell_type": "code",
   "execution_count": 15,
   "id": "57ed305b-a965-41c4-a5ee-8f422557e4f0",
   "metadata": {},
   "outputs": [],
   "source": [
    "from stockFunctions import conversionSingle\n",
    "aTestNormTable=conversionSingle(y_test,[column])\n",
    "actual_stock_price_test_ori=Ms.inverse_transform(aTestNormTable)\n",
    "actual_stock_price_test_oriA=conversionSingle(actual_stock_price_test_ori,[column])"
   ]
  },
  {
   "cell_type": "code",
   "execution_count": 16,
   "id": "80344f43-1f68-4374-84cf-6740f6295ae4",
   "metadata": {},
   "outputs": [],
   "source": [
    "from stockFunctions import conversionSingle\n",
    "pTestNormTable=conversionSingle(y_pred,[column])\n",
    "predicted_stock_price_test_ori=Ms.inverse_transform(pTestNormTable)\n",
    "predicted_stock_price_test_oriP=conversionSingle(predicted_stock_price_test_ori,[column])"
   ]
  },
  {
   "cell_type": "code",
   "execution_count": 17,
   "id": "c524f8c8-6ca8-4e3d-bf45-0c789a6a50d9",
   "metadata": {},
   "outputs": [
    {
     "data": {
      "image/png": "[encoded data removed]",
      "text/plain": [
       "<Figure size 1000x500 with 1 Axes>"
      ]
     },
     "metadata": {},
     "output_type": "display_data"
    }
   ],
   "source": [
    "from stockFunctions import graph\n",
    "graph(actual_stock_price_test_oriA,predicted_stock_price_test_oriP,\"Actual\",\"Predicted\",\"Reliance-Close-MA-Ori\",\"Days\",\"Prices\")"
   ]
  },
  {
   "cell_type": "code",
   "execution_count": 18,
   "id": "d915723e-3fcf-419a-bca3-0edf3d2d88f5",
   "metadata": {},
   "outputs": [
    {
     "name": "stdout",
     "output_type": "stream",
     "text": [
      "RMSE-Testset: 150.15955475013357\n",
      "maPe-Testset: 0.10771910017665251\n"
     ]
    }
   ],
   "source": [
    "from stockFunctions import rmsemape\n",
    "rmsemape(actual_stock_price_test_oriA,predicted_stock_price_test_oriP)"
   ]
  },
  {
   "cell_type": "code",
   "execution_count": 19,
   "id": "9dfa807d-6a9e-410e-887e-0830af3af2e7",
   "metadata": {},
   "outputs": [],
   "source": [
    "forecast=model_fit.predict(len(data1), len(data1))"
   ]
  },
  {
   "cell_type": "code",
   "execution_count": 20,
   "id": "c5e9640d-68f2-4488-b73e-94a2fd6ba5f0",
   "metadata": {},
   "outputs": [
    {
     "data": {
      "text/plain": [
       "array([0.40524574])"
      ]
     },
     "execution_count": 20,
     "metadata": {},
     "output_type": "execute_result"
    }
   ],
   "source": [
    "forecast"
   ]
  },
  {
   "cell_type": "code",
   "execution_count": 21,
   "id": "e0467fef-ec82-421b-8b6f-92161d4054d0",
   "metadata": {},
   "outputs": [],
   "source": [
    "from stockFunctions import conversionSingle\n",
    "fTestNormTable=conversionSingle(forecast,[\"Closefore\"])\n",
    "forecast_stock_price_test_ori=Ms.inverse_transform(fTestNormTable)\n",
    "forecast_stock_price_test_oriF=conversionSingle(forecast_stock_price_test_ori,[\"Closefore\"])"
   ]
  },
  {
   "cell_type": "code",
   "execution_count": 22,
   "id": "19c2bd93-a9c6-429d-996a-fb318c5ca81b",
   "metadata": {},
   "outputs": [
    {
     "data": {
      "text/html": [
       "<div>\n",
       "<style scoped>\n",
       "    .dataframe tbody tr th:only-of-type {\n",
       "        vertical-align: middle;\n",
       "    }\n",
       "\n",
       "    .dataframe tbody tr th {\n",
       "        vertical-align: top;\n",
       "    }\n",
       "\n",
       "    .dataframe thead th {\n",
       "        text-align: right;\n",
       "    }\n",
       "</style>\n",
       "<table border=\"1\" class=\"dataframe\">\n",
       "  <thead>\n",
       "    <tr style=\"text-align: right;\">\n",
       "      <th></th>\n",
       "      <th>Closefore</th>\n",
       "    </tr>\n",
       "  </thead>\n",
       "  <tbody>\n",
       "    <tr>\n",
       "      <th>0</th>\n",
       "      <td>1075.027012</td>\n",
       "    </tr>\n",
       "  </tbody>\n",
       "</table>\n",
       "</div>"
      ],
      "text/plain": [
       "     Closefore\n",
       "0  1075.027012"
      ]
     },
     "execution_count": 22,
     "metadata": {},
     "output_type": "execute_result"
    }
   ],
   "source": [
    "forecast_stock_price_test_oriF"
   ]
  },
  {
   "cell_type": "code",
   "execution_count": 23,
   "id": "33b2ad14-f7d8-442b-a71a-dd24e62bf0b7",
   "metadata": {},
   "outputs": [],
   "source": [
    "forecast_stock_price_test_oriF.to_csv(\"CloseMA.csv\",index=False)"
   ]
  },
  {
   "cell_type": "code",
   "execution_count": null,
   "id": "ee12d264-514a-4701-96f7-b56751aa7034",
   "metadata": {},
   "outputs": [],
   "source": []
  }
 ],
 "metadata": {
  "kernelspec": {
   "display_name": "Python 3 (ipykernel)",
   "language": "python",
   "name": "python3"
  },
  "language_info": {
   "codemirror_mode": {
    "name": "ipython",
    "version": 3
   },
   "file_extension": ".py",
   "mimetype": "text/x-python",
   "name": "python",
   "nbconvert_exporter": "python",
   "pygments_lexer": "ipython3",
   "version": "3.11.5"
  }
 },
 "nbformat": 4,
 "nbformat_minor": 5
}
