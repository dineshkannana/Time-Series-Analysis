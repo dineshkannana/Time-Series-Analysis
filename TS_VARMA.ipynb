{
 "cells": [
  {
   "cell_type": "code",
   "execution_count": 1,
   "id": "72c44516-4c6f-4a04-813e-5e71673dc583",
   "metadata": {},
   "outputs": [],
   "source": [
    "import pandas as pd\n",
    "import yfinance as yf\n",
    "from sklearn.preprocessing import MinMaxScaler\n",
    "from sklearn.metrics import mean_squared_error, mean_absolute_percentage_error\n",
    "from statsmodels.tsa.statespace.varmax import VARMAX\n",
    "import matplotlib.pyplot as plt\n",
    "import warnings\n",
    "warnings.filterwarnings(\"ignore\")"
   ]
  },
  {
   "cell_type": "code",
   "execution_count": 4,
   "id": "1b9bbfe7-49de-4019-9f34-d38a5c4d6890",
   "metadata": {},
   "outputs": [
    {
     "name": "stderr",
     "output_type": "stream",
     "text": [
      "[*********************100%***********************]  1 of 1 completed"
     ]
    },
    {
     "name": "stdout",
     "output_type": "stream",
     "text": [
      "Price             Close         High         Low         Open      Volume\n",
      "Ticker      RELIANCE.NS  RELIANCE.NS RELIANCE.NS  RELIANCE.NS RELIANCE.NS\n",
      "Date                                                                     \n",
      "2021-06-01   987.374939  1002.443448  977.177463   986.054707    28013832\n",
      "2021-06-02  1002.101990  1005.857738  981.957502   981.957502    24630162\n",
      "2021-06-03  1005.925964  1024.294990  999.757459  1011.092917    23974257\n",
      "2021-06-04   997.208069  1009.021575  994.362780  1008.270425    14468646\n",
      "2021-06-07  1014.006470  1020.653023  994.704227  1002.443367    16336573\n"
     ]
    },
    {
     "name": "stderr",
     "output_type": "stream",
     "text": [
      "\n"
     ]
    }
   ],
   "source": [
    "stk_data = yf.download(\"RELIANCE.NS\", start=\"2021-06-01\", end=\"2022-05-01\")\n",
    "print(stk_data.head())"
   ]
  },
  {
   "cell_type": "code",
   "execution_count": 5,
   "id": "805c6508-4bf7-4d06-b6ad-b3de533908bb",
   "metadata": {},
   "outputs": [
    {
     "name": "stdout",
     "output_type": "stream",
     "text": [
      "Data fetched successfully!\n",
      "                  Close         High         Low         Open    Volume\n",
      "Date                                                                   \n",
      "2021-06-01   987.374939  1002.443448  977.177463   986.054707  28013832\n",
      "2021-06-02  1002.101990  1005.857738  981.957502   981.957502  24630162\n",
      "2021-06-03  1005.925964  1024.294990  999.757459  1011.092917  23974257\n",
      "2021-06-04   997.208069  1009.021575  994.362780  1008.270425  14468646\n",
      "2021-06-07  1014.006470  1020.653023  994.704227  1002.443367  16336573\n"
     ]
    }
   ],
   "source": [
    "dataset = pd.read_csv(\"reliance_data.csv\", skiprows=1)\n",
    "import pandas as pd\n",
    "# Flatten column MultiIndex if exists\n",
    "if isinstance(stk_data.columns, pd.MultiIndex):\n",
    "    stk_data.columns = [col[0] for col in stk_data.columns]\n",
    "\n",
    "# Check data\n",
    "print(\"Data fetched successfully!\")\n",
    "print(stk_data.head())"
   ]
  },
  {
   "cell_type": "code",
   "execution_count": 6,
   "id": "7afd304e-0553-4d86-9087-c91d891d0624",
   "metadata": {},
   "outputs": [
    {
     "data": {
      "text/html": [
       "<div>\n",
       "<style scoped>\n",
       "    .dataframe tbody tr th:only-of-type {\n",
       "        vertical-align: middle;\n",
       "    }\n",
       "\n",
       "    .dataframe tbody tr th {\n",
       "        vertical-align: top;\n",
       "    }\n",
       "\n",
       "    .dataframe thead th {\n",
       "        text-align: right;\n",
       "    }\n",
       "</style>\n",
       "<table border=\"1\" class=\"dataframe\">\n",
       "  <thead>\n",
       "    <tr style=\"text-align: right;\">\n",
       "      <th></th>\n",
       "      <th>Open</th>\n",
       "      <th>High</th>\n",
       "      <th>Low</th>\n",
       "      <th>Close</th>\n",
       "    </tr>\n",
       "    <tr>\n",
       "      <th>Date</th>\n",
       "      <th></th>\n",
       "      <th></th>\n",
       "      <th></th>\n",
       "      <th></th>\n",
       "    </tr>\n",
       "  </thead>\n",
       "  <tbody>\n",
       "    <tr>\n",
       "      <th>2021-06-01</th>\n",
       "      <td>986.054707</td>\n",
       "      <td>1002.443448</td>\n",
       "      <td>977.177463</td>\n",
       "      <td>987.374939</td>\n",
       "    </tr>\n",
       "    <tr>\n",
       "      <th>2021-06-02</th>\n",
       "      <td>981.957502</td>\n",
       "      <td>1005.857738</td>\n",
       "      <td>981.957502</td>\n",
       "      <td>1002.101990</td>\n",
       "    </tr>\n",
       "    <tr>\n",
       "      <th>2021-06-03</th>\n",
       "      <td>1011.092917</td>\n",
       "      <td>1024.294990</td>\n",
       "      <td>999.757459</td>\n",
       "      <td>1005.925964</td>\n",
       "    </tr>\n",
       "    <tr>\n",
       "      <th>2021-06-04</th>\n",
       "      <td>1008.270425</td>\n",
       "      <td>1009.021575</td>\n",
       "      <td>994.362780</td>\n",
       "      <td>997.208069</td>\n",
       "    </tr>\n",
       "    <tr>\n",
       "      <th>2021-06-07</th>\n",
       "      <td>1002.443367</td>\n",
       "      <td>1020.653023</td>\n",
       "      <td>994.704227</td>\n",
       "      <td>1014.006470</td>\n",
       "    </tr>\n",
       "    <tr>\n",
       "      <th>...</th>\n",
       "      <td>...</td>\n",
       "      <td>...</td>\n",
       "      <td>...</td>\n",
       "      <td>...</td>\n",
       "    </tr>\n",
       "    <tr>\n",
       "      <th>2022-04-25</th>\n",
       "      <td>1252.808769</td>\n",
       "      <td>1260.117952</td>\n",
       "      <td>1216.833432</td>\n",
       "      <td>1231.155029</td>\n",
       "    </tr>\n",
       "    <tr>\n",
       "      <th>2022-04-26</th>\n",
       "      <td>1238.007307</td>\n",
       "      <td>1276.837847</td>\n",
       "      <td>1236.956647</td>\n",
       "      <td>1267.998169</td>\n",
       "    </tr>\n",
       "    <tr>\n",
       "      <th>2022-04-27</th>\n",
       "      <td>1258.952988</td>\n",
       "      <td>1291.913249</td>\n",
       "      <td>1258.587463</td>\n",
       "      <td>1269.231689</td>\n",
       "    </tr>\n",
       "    <tr>\n",
       "      <th>2022-04-28</th>\n",
       "      <td>1283.667576</td>\n",
       "      <td>1302.420431</td>\n",
       "      <td>1272.772133</td>\n",
       "      <td>1288.190186</td>\n",
       "    </tr>\n",
       "    <tr>\n",
       "      <th>2022-04-29</th>\n",
       "      <td>1304.773147</td>\n",
       "      <td>1304.773147</td>\n",
       "      <td>1268.752134</td>\n",
       "      <td>1274.668091</td>\n",
       "    </tr>\n",
       "  </tbody>\n",
       "</table>\n",
       "<p>228 rows × 4 columns</p>\n",
       "</div>"
      ],
      "text/plain": [
       "                   Open         High          Low        Close\n",
       "Date                                                          \n",
       "2021-06-01   986.054707  1002.443448   977.177463   987.374939\n",
       "2021-06-02   981.957502  1005.857738   981.957502  1002.101990\n",
       "2021-06-03  1011.092917  1024.294990   999.757459  1005.925964\n",
       "2021-06-04  1008.270425  1009.021575   994.362780   997.208069\n",
       "2021-06-07  1002.443367  1020.653023   994.704227  1014.006470\n",
       "...                 ...          ...          ...          ...\n",
       "2022-04-25  1252.808769  1260.117952  1216.833432  1231.155029\n",
       "2022-04-26  1238.007307  1276.837847  1236.956647  1267.998169\n",
       "2022-04-27  1258.952988  1291.913249  1258.587463  1269.231689\n",
       "2022-04-28  1283.667576  1302.420431  1272.772133  1288.190186\n",
       "2022-04-29  1304.773147  1304.773147  1268.752134  1274.668091\n",
       "\n",
       "[228 rows x 4 columns]"
      ]
     },
     "execution_count": 6,
     "metadata": {},
     "output_type": "execute_result"
    }
   ],
   "source": [
    "stk_data=stk_data[[\"Open\",\"High\",\"Low\",\"Close\"]]\n",
    "stk_data"
   ]
  },
  {
   "cell_type": "code",
   "execution_count": 9,
   "id": "8bfd686c-1d26-41c9-b88f-3bec30ee962e",
   "metadata": {},
   "outputs": [],
   "source": [
    "scaler = MinMaxScaler()\n",
    "data_scaled = pd.DataFrame(scaler.fit_transform(stk_data), columns=stk_data.columns, index=stk_data.index)"
   ]
  },
  {
   "cell_type": "code",
   "execution_count": 10,
   "id": "16195bd0-b5e5-43e2-8e37-66cb5becc57f",
   "metadata": {},
   "outputs": [],
   "source": [
    "train_size = int(len(data_scaled) * 0.8)\n",
    "train, test = data_scaled.iloc[:train_size], data_scaled.iloc[train_size:]"
   ]
  },
  {
   "cell_type": "code",
   "execution_count": 11,
   "id": "dc833349-bd74-41d7-a3b5-127f62df0cb9",
   "metadata": {},
   "outputs": [],
   "source": [
    "try:\n",
    "    model = VARMAX(train, order=(1, 1))\n",
    "    model_fit = model.fit(disp=False)\n",
    "except Exception as e:\n",
    "    print(\"Error fitting VARMA(1,1):\", e)\n",
    "    # fallback to VAR(1)\n",
    "    model = VARMAX(train, order=(1, 0))\n",
    "    model_fit = model.fit(disp=False)\n"
   ]
  },
  {
   "cell_type": "code",
   "execution_count": 12,
   "id": "e6f1286d-0f8a-42c2-8e2c-6c384b421838",
   "metadata": {},
   "outputs": [],
   "source": [
    "start = len(train)\n",
    "end = len(data_scaled) - 1\n",
    "pred_scaled = model_fit.predict(start=start, end=end)"
   ]
  },
  {
   "cell_type": "code",
   "execution_count": 14,
   "id": "fc49329b-4e2c-4c7d-84c9-00583bf872d9",
   "metadata": {},
   "outputs": [],
   "source": [
    "pred_orig = scaler.inverse_transform(pred_scaled)\n",
    "test_orig = scaler.inverse_transform(test)\n",
    "\n",
    "pred_df = pd.DataFrame(pred_orig, columns=stk_data.columns, index=test.index)\n",
    "test_df = pd.DataFrame(test_orig, columns=stk_data.columns, index=test.index)\n"
   ]
  },
  {
   "cell_type": "code",
   "execution_count": 16,
   "id": "a600982b-38be-40dc-adbe-395427f42ac5",
   "metadata": {},
   "outputs": [
    {
     "name": "stdout",
     "output_type": "stream",
     "text": [
      "Open - RMSE: 96.62, MAPE: 6.74%\n",
      "High - RMSE: 100.11, MAPE: 6.78%\n",
      "Low - RMSE: 97.90, MAPE: 6.94%\n",
      "Close - RMSE: 100.08, MAPE: 6.92%\n"
     ]
    }
   ],
   "source": [
    "for col in stk_data.columns:\n",
    "    rmse = mean_squared_error(test_df[col], pred_df[col], squared=False)\n",
    "    mape = mean_absolute_percentage_error(test_df[col], pred_df[col]) * 100\n",
    "    print(f\"{col} - RMSE: {rmse:.2f}, MAPE: {mape:.2f}%\")"
   ]
  },
  {
   "cell_type": "code",
   "execution_count": 17,
   "id": "55a7303f-c466-493c-b825-b0108a7abc8e",
   "metadata": {},
   "outputs": [
    {
     "data": {
      "image/png": "[encoded data removed]",
      "text/plain": [
       "<Figure size 1200x600 with 1 Axes>"
      ]
     },
     "metadata": {},
     "output_type": "display_data"
    }
   ],
   "source": [
    "plt.figure(figsize=(12, 6))\n",
    "plt.plot(test_df[\"Close\"], label=\"Actual Close\")\n",
    "plt.plot(pred_df[\"Close\"], label=\"Predicted Close\", linestyle='--')\n",
    "plt.title(\"VARMA(1,1) - Close Price Forecast\")\n",
    "plt.xlabel(\"Date\")\n",
    "plt.ylabel(\"Price\")\n",
    "plt.legend()\n",
    "plt.grid(True)\n",
    "plt.show()"
   ]
  },
  {
   "cell_type": "code",
   "execution_count": null,
   "id": "cd777b08-facb-48d0-845a-5cfdafc21780",
   "metadata": {},
   "outputs": [],
   "source": []
  }
 ],
 "metadata": {
  "kernelspec": {
   "display_name": "Python 3 (ipykernel)",
   "language": "python",
   "name": "python3"
  },
  "language_info": {
   "codemirror_mode": {
    "name": "ipython",
    "version": 3
   },
   "file_extension": ".py",
   "mimetype": "text/x-python",
   "name": "python",
   "nbconvert_exporter": "python",
   "pygments_lexer": "ipython3",
   "version": "3.11.5"
  }
 },
 "nbformat": 4,
 "nbformat_minor": 5
}
