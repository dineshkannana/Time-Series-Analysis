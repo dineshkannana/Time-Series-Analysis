{
 "cells": [
  {
   "cell_type": "code",
   "execution_count": null,
   "id": "762fdbb3-2cc9-4731-ab27-dbf862830b20",
   "metadata": {},
   "outputs": [],
   "source": [
    "import pandas as pd\n",
    "import yfinance as yf\n",
    "import matplotlib.pyplot as plt\n",
    "from statsmodels.tsa.holtwinters import SimpleExpSmoothing\n",
    "from sklearn.metrics import mean_squared_error, mean_absolute_percentage_error"
   ]
  },
  {
   "cell_type": "code",
   "execution_count": null,
   "id": "f69845e5-e9b3-42e9-baf9-8f969041d847",
   "metadata": {},
   "outputs": [],
   "source": [
    "stk_data = yf.download(\"RELIANCE.NS\", start=\"2021-06-01\", end=\"2022-05-01\")\n",
    "print(stk_data.head())"
   ]
  },
  {
   "cell_type": "code",
   "execution_count": null,
   "id": "99122019-a65c-4522-aefd-590e91bd191c",
   "metadata": {},
   "outputs": [],
   "source": [
    "dataset = pd.read_csv(\"reliance_data.csv\", skiprows=1)\n",
    "import pandas as pd\n",
    "# Flatten column MultiIndex if exists\n",
    "if isinstance(stk_data.columns, pd.MultiIndex):\n",
    "    stk_data.columns = [col[0] for col in stk_data.columns]\n",
    "\n",
    "# Check data\n",
    "print(\"Data fetched successfully!\")\n",
    "print(stk_data.head())"
   ]
  },
  {
   "cell_type": "code",
   "execution_count": null,
   "id": "94e06a89-070a-41f6-a482-ae2852b44db5",
   "metadata": {},
   "outputs": [],
   "source": [
    "stk_data=stk_data[[\"Open\",\"High\",\"Low\",\"Close\"]]\n",
    "stk_data"
   ]
  },
  {
   "cell_type": "code",
   "execution_count": null,
   "id": "52fe4532-accb-4512-bc35-0fb2c6b6bb58",
   "metadata": {},
   "outputs": [],
   "source": [
    "train_size = int(len(stk_data) * 0.8)\n",
    "train = stk_data.iloc[:train_size]\n",
    "test = stk_data.iloc[train_size:]"
   ]
  },
  {
   "cell_type": "code",
   "execution_count": null,
   "id": "f232d160-d69a-49f8-b750-92b0d1273ecd",
   "metadata": {},
   "outputs": [],
   "source": [
    "model = SimpleExpSmoothing(train['Close'])\n",
    "model_fit = model.fit()"
   ]
  },
  {
   "cell_type": "code",
   "execution_count": null,
   "id": "81dc89b8-e8f5-4710-9aae-2c349447fa0c",
   "metadata": {},
   "outputs": [],
   "source": [
    "pred = model_fit.forecast(len(test))"
   ]
  },
  {
   "cell_type": "code",
   "execution_count": null,
   "id": "beb0b914-9693-4bd1-91a7-14c3f0714b11",
   "metadata": {},
   "outputs": [],
   "source": [
    "rmse = mean_squared_error(test['Close'], pred, squared=False)\n",
    "mape = mean_absolute_percentage_error(test['Close'], pred) * 100\n",
    "print(f\"SES - RMSE: {rmse:.2f}, MAPE: {mape:.2f}%\")"
   ]
  },
  {
   "cell_type": "code",
   "execution_count": null,
   "id": "3a2aba0d-378c-4bb0-8d87-8af1658c677c",
   "metadata": {},
   "outputs": [],
   "source": [
    "import pandas as pd\n",
    "import yfinance as yf\n",
    "import matplotlib.pyplot as plt\n",
    "from statsmodels.tsa.holtwinters import SimpleExpSmoothing\n",
    "from sklearn.metrics import mean_squared_error, mean_absolute_percentage_error\n",
    "\n",
    "# 1. Download data\n",
    "stk_data = yf.download(\"RELIANCE.NS\", start=\"2021-06-01\", end=\"2022-05-01\")\n",
    "stk_data = stk_data[['Close']]\n",
    "\n",
    "# 2. Split data\n",
    "train_size = int(len(stk_data) * 0.8)\n",
    "train = stk_data.iloc[:train_size]\n",
    "test = stk_data.iloc[train_size:]\n",
    "\n",
    "# 3. Fit SES model\n",
    "model = SimpleExpSmoothing(train['Close'])\n",
    "model_fit = model.fit()\n",
    "\n",
    "# 4. Predict\n",
    "pred = model_fit.forecast(len(test))\n",
    "\n",
    "# 5. Evaluate\n",
    "rmse = mean_squared_error(test['Close'], pred, squared=False)\n",
    "mape = mean_absolute_percentage_error(test['Close'], pred) * 100\n",
    "print(f\"SES - RMSE: {rmse:.2f}, MAPE: {mape:.2f}%\")\n",
    "\n",
    "# 6. Plot\n",
    "plt.figure(figsize=(12, 6))\n",
    "plt.plot(train.index, train['Close'], label='Train')\n",
    "plt.plot(test.index, test['Close'], label='Actual Test')\n",
    "plt.plot(test.index, pred, label='SES Forecast', linestyle='--')\n",
    "plt.title(\"Simple Exponential Smoothing - Close Price Forecast\")\n",
    "plt.xlabel(\"Date\")\n",
    "plt.ylabel(\"Price\")\n",
    "plt.legend()\n",
    "plt.grid(True)\n",
    "plt.show()\n"
   ]
  }
 ],
 "metadata": {
  "kernelspec": {
   "display_name": "Python 3 (ipykernel)",
   "language": "python",
   "name": "python3"
  },
  "language_info": {
   "codemirror_mode": {
    "name": "ipython",
    "version": 3
   },
   "file_extension": ".py",
   "mimetype": "text/x-python",
   "name": "python",
   "nbconvert_exporter": "python",
   "pygments_lexer": "ipython3",
   "version": "3.11.5"
  }
 },
 "nbformat": 4,
 "nbformat_minor": 5
}
