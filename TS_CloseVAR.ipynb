{
 "cells": [
  {
   "cell_type": "code",
   "execution_count": 1,
   "id": "d3ae2d37-1dec-42a2-99ec-19f14e5baefc",
   "metadata": {},
   "outputs": [
    {
     "name": "stderr",
     "output_type": "stream",
     "text": [
      "C:\\Users\\tiruk\\AppData\\Local\\Temp\\ipykernel_14520\\620575181.py:3: FutureWarning: YF.download() has changed argument auto_adjust default to True\n",
      "  stk_data = yf.download(\"RELIANCE.NS\", start=\"2021-06-01\", end=\"2022-05-01\")\n",
      "[*********************100%***********************]  1 of 1 completed"
     ]
    },
    {
     "name": "stdout",
     "output_type": "stream",
     "text": [
      "Price             Close         High         Low         Open      Volume\n",
      "Ticker      RELIANCE.NS  RELIANCE.NS RELIANCE.NS  RELIANCE.NS RELIANCE.NS\n",
      "Date                                                                     \n",
      "2021-06-01   987.374939  1002.443448  977.177463   986.054707    28013832\n",
      "2021-06-02  1002.101929  1005.857676  981.957442   981.957442    24630162\n",
      "2021-06-03  1005.925964  1024.294990  999.757459  1011.092917    23974257\n",
      "2021-06-04   997.208069  1009.021575  994.362780  1008.270425    14468646\n",
      "2021-06-07  1014.006409  1020.652962  994.704167  1002.443306    16336573\n"
     ]
    },
    {
     "name": "stderr",
     "output_type": "stream",
     "text": [
      "\n"
     ]
    }
   ],
   "source": [
    "import pandas as pd\n",
    "import yfinance as yf\n",
    "stk_data = yf.download(\"RELIANCE.NS\", start=\"2021-06-01\", end=\"2022-05-01\")\n",
    "print(stk_data.head())"
   ]
  },
  {
   "cell_type": "code",
   "execution_count": 2,
   "id": "f9f22e04-4fa9-44b2-a8e4-1fffcb2a9445",
   "metadata": {},
   "outputs": [
    {
     "name": "stdout",
     "output_type": "stream",
     "text": [
      "Data fetched successfully!\n",
      "                  Close         High         Low         Open    Volume\n",
      "Date                                                                   \n",
      "2021-06-01   987.374939  1002.443448  977.177463   986.054707  28013832\n",
      "2021-06-02  1002.101929  1005.857676  981.957442   981.957442  24630162\n",
      "2021-06-03  1005.925964  1024.294990  999.757459  1011.092917  23974257\n",
      "2021-06-04   997.208069  1009.021575  994.362780  1008.270425  14468646\n",
      "2021-06-07  1014.006409  1020.652962  994.704167  1002.443306  16336573\n"
     ]
    }
   ],
   "source": [
    "dataset = pd.read_csv(\"reliance_data.csv\", skiprows=1)\n",
    "import pandas as pd\n",
    "# Flatten column MultiIndex if exists\n",
    "if isinstance(stk_data.columns, pd.MultiIndex):\n",
    "    stk_data.columns = [col[0] for col in stk_data.columns]\n",
    "\n",
    "# Check data\n",
    "print(\"Data fetched successfully!\")\n",
    "print(stk_data.head())"
   ]
  },
  {
   "cell_type": "code",
   "execution_count": 3,
   "id": "15686c12-ce12-487e-8a6f-60337e2d2c9a",
   "metadata": {},
   "outputs": [
    {
     "data": {
      "text/html": [
       "<div>\n",
       "<style scoped>\n",
       "    .dataframe tbody tr th:only-of-type {\n",
       "        vertical-align: middle;\n",
       "    }\n",
       "\n",
       "    .dataframe tbody tr th {\n",
       "        vertical-align: top;\n",
       "    }\n",
       "\n",
       "    .dataframe thead th {\n",
       "        text-align: right;\n",
       "    }\n",
       "</style>\n",
       "<table border=\"1\" class=\"dataframe\">\n",
       "  <thead>\n",
       "    <tr style=\"text-align: right;\">\n",
       "      <th></th>\n",
       "      <th>Open</th>\n",
       "      <th>High</th>\n",
       "      <th>Low</th>\n",
       "      <th>Close</th>\n",
       "    </tr>\n",
       "    <tr>\n",
       "      <th>Date</th>\n",
       "      <th></th>\n",
       "      <th></th>\n",
       "      <th></th>\n",
       "      <th></th>\n",
       "    </tr>\n",
       "  </thead>\n",
       "  <tbody>\n",
       "    <tr>\n",
       "      <th>2021-06-01</th>\n",
       "      <td>986.054707</td>\n",
       "      <td>1002.443448</td>\n",
       "      <td>977.177463</td>\n",
       "      <td>987.374939</td>\n",
       "    </tr>\n",
       "    <tr>\n",
       "      <th>2021-06-02</th>\n",
       "      <td>981.957442</td>\n",
       "      <td>1005.857676</td>\n",
       "      <td>981.957442</td>\n",
       "      <td>1002.101929</td>\n",
       "    </tr>\n",
       "    <tr>\n",
       "      <th>2021-06-03</th>\n",
       "      <td>1011.092917</td>\n",
       "      <td>1024.294990</td>\n",
       "      <td>999.757459</td>\n",
       "      <td>1005.925964</td>\n",
       "    </tr>\n",
       "    <tr>\n",
       "      <th>2021-06-04</th>\n",
       "      <td>1008.270425</td>\n",
       "      <td>1009.021575</td>\n",
       "      <td>994.362780</td>\n",
       "      <td>997.208069</td>\n",
       "    </tr>\n",
       "    <tr>\n",
       "      <th>2021-06-07</th>\n",
       "      <td>1002.443306</td>\n",
       "      <td>1020.652962</td>\n",
       "      <td>994.704167</td>\n",
       "      <td>1014.006409</td>\n",
       "    </tr>\n",
       "    <tr>\n",
       "      <th>...</th>\n",
       "      <td>...</td>\n",
       "      <td>...</td>\n",
       "      <td>...</td>\n",
       "      <td>...</td>\n",
       "    </tr>\n",
       "    <tr>\n",
       "      <th>2022-04-25</th>\n",
       "      <td>1252.808769</td>\n",
       "      <td>1260.117952</td>\n",
       "      <td>1216.833432</td>\n",
       "      <td>1231.155029</td>\n",
       "    </tr>\n",
       "    <tr>\n",
       "      <th>2022-04-26</th>\n",
       "      <td>1238.007307</td>\n",
       "      <td>1276.837847</td>\n",
       "      <td>1236.956647</td>\n",
       "      <td>1267.998169</td>\n",
       "    </tr>\n",
       "    <tr>\n",
       "      <th>2022-04-27</th>\n",
       "      <td>1258.952988</td>\n",
       "      <td>1291.913249</td>\n",
       "      <td>1258.587463</td>\n",
       "      <td>1269.231689</td>\n",
       "    </tr>\n",
       "    <tr>\n",
       "      <th>2022-04-28</th>\n",
       "      <td>1283.667576</td>\n",
       "      <td>1302.420431</td>\n",
       "      <td>1272.772133</td>\n",
       "      <td>1288.190186</td>\n",
       "    </tr>\n",
       "    <tr>\n",
       "      <th>2022-04-29</th>\n",
       "      <td>1304.773022</td>\n",
       "      <td>1304.773022</td>\n",
       "      <td>1268.752012</td>\n",
       "      <td>1274.667969</td>\n",
       "    </tr>\n",
       "  </tbody>\n",
       "</table>\n",
       "<p>228 rows × 4 columns</p>\n",
       "</div>"
      ],
      "text/plain": [
       "                   Open         High          Low        Close\n",
       "Date                                                          \n",
       "2021-06-01   986.054707  1002.443448   977.177463   987.374939\n",
       "2021-06-02   981.957442  1005.857676   981.957442  1002.101929\n",
       "2021-06-03  1011.092917  1024.294990   999.757459  1005.925964\n",
       "2021-06-04  1008.270425  1009.021575   994.362780   997.208069\n",
       "2021-06-07  1002.443306  1020.652962   994.704167  1014.006409\n",
       "...                 ...          ...          ...          ...\n",
       "2022-04-25  1252.808769  1260.117952  1216.833432  1231.155029\n",
       "2022-04-26  1238.007307  1276.837847  1236.956647  1267.998169\n",
       "2022-04-27  1258.952988  1291.913249  1258.587463  1269.231689\n",
       "2022-04-28  1283.667576  1302.420431  1272.772133  1288.190186\n",
       "2022-04-29  1304.773022  1304.773022  1268.752012  1274.667969\n",
       "\n",
       "[228 rows x 4 columns]"
      ]
     },
     "execution_count": 3,
     "metadata": {},
     "output_type": "execute_result"
    }
   ],
   "source": [
    "stk_data=stk_data[[\"Open\",\"High\",\"Low\",\"Close\"]]\n",
    "stk_data"
   ]
  },
  {
   "cell_type": "code",
   "execution_count": 4,
   "id": "e9358168-d403-4ee4-9976-1932eff2e72f",
   "metadata": {},
   "outputs": [
    {
     "name": "stdout",
     "output_type": "stream",
     "text": [
      "Len: (228, 4)\n"
     ]
    }
   ],
   "source": [
    "from sklearn.preprocessing import MinMaxScaler\n",
    "Ms = MinMaxScaler()\n",
    "data1= Ms.fit_transform(stk_data)\n",
    "print(\"Len:\",data1.shape)"
   ]
  },
  {
   "cell_type": "code",
   "execution_count": 5,
   "id": "c402c59c-6b90-4fbc-9093-ee0cd839446c",
   "metadata": {},
   "outputs": [],
   "source": [
    "data1=pd.DataFrame(data1,columns=[\"Open\",\"High\",\"Low\",\"Close\"])"
   ]
  },
  {
   "cell_type": "code",
   "execution_count": 6,
   "id": "f2e581e8-0ca4-48dc-be49-9cb90cc9e827",
   "metadata": {},
   "outputs": [
    {
     "name": "stdout",
     "output_type": "stream",
     "text": [
      "182\n",
      "X_train length: (182, 4)\n",
      "X_test length: (46, 4)\n",
      "y_train length: (182, 4)\n",
      "y_test length: (46, 4)\n"
     ]
    }
   ],
   "source": [
    "training_size = round(len(data1 ) * 0.80)\n",
    "print(training_size)\n",
    "X_train=data1[:training_size]\n",
    "X_test=data1[training_size:]\n",
    "print(\"X_train length:\",X_train.shape)\n",
    "print(\"X_test length:\",X_test.shape)\n",
    "y_train=data1[:training_size]\n",
    "y_test=data1[training_size:]\n",
    "print(\"y_train length:\",y_train.shape)\n",
    "print(\"y_test length:\",y_test.shape)"
   ]
  },
  {
   "cell_type": "code",
   "execution_count": 7,
   "id": "0297c38a-3d0d-4b45-8370-c8f3643c9e62",
   "metadata": {},
   "outputs": [],
   "source": [
    "import warnings\n",
    "warnings.filterwarnings(\"ignore\")"
   ]
  },
  {
   "cell_type": "code",
   "execution_count": 8,
   "id": "915e4a82-d6a8-4596-85a1-d1393f8b35be",
   "metadata": {},
   "outputs": [],
   "source": [
    "performance={\"Model\":[],\"RMSE\":[],\"MaPe\":[],\"Lag\":[],\"Test\":[]}"
   ]
  },
  {
   "cell_type": "code",
   "execution_count": 9,
   "id": "c420bfdc-1b42-48ec-9031-8418acdbfe4d",
   "metadata": {},
   "outputs": [],
   "source": [
    "def cominbation(dataset,listt):\n",
    "    print(listt)\n",
    "    datasetTwo=dataset[listt]\n",
    "    test_obs = 28\n",
    "    train =datasetTwo[:-test_obs]\n",
    "    test = datasetTwo[-test_obs:]\n",
    "    from statsmodels.tsa.api import VAR\n",
    "    for i in [1,2,3,4,5,6,7,8,9,10]:\n",
    "        model = VAR(train)\n",
    "        results = model.fit(i)\n",
    "        print('Order =', i)\n",
    "        print('AIC: ', results.aic)\n",
    "        print('BIC: ', results.bic)\n",
    "        print()\n",
    "    x = model.select_order(maxlags=12)\n",
    "    order=x.selected_orders[\"aic\"]\n",
    "    result = model.fit(order)\n",
    "    #result.summary()\n",
    "    lagged_Values = train.values[-order:]\n",
    "    pred = result.forecast(y=lagged_Values,steps=28) \n",
    "    preds=pd.DataFrame(pred,columns=listt)\n",
    "    preds.to_csv(\"varforecasted_{}.csv\".format(test_obs))\n",
    "    from sklearn.metrics import mean_squared_error\n",
    "    rmse= round(mean_squared_error(test,pred,squared=False))\n",
    "    from sklearn.metrics import mean_absolute_percentage_error\n",
    "    mape=mean_absolute_percentage_error(test,pred)\n",
    "    performance[\"Model\"].append(listt)\n",
    "    performance[\"RMSE\"].append(rmse)\n",
    "    performance[\"MaPe\"].append(mape)\n",
    "    performance[\"Lag\"].append(order)\n",
    "    performance[\"Test\"].append(test_obs)\n",
    "    perf=pd.DataFrame(performance)\n",
    "    return perf,result,pred"
   ]
  },
  {
   "cell_type": "code",
   "execution_count": 10,
   "id": "0f82a52e-d2d4-4cc1-9b02-bae16bcd3e67",
   "metadata": {},
   "outputs": [],
   "source": [
    "listt=[\"Close\",\"High\",\"Open\",\"Low\"]"
   ]
  },
  {
   "cell_type": "code",
   "execution_count": 11,
   "id": "0471e366-831a-4212-b680-ed5c743cfe11",
   "metadata": {},
   "outputs": [
    {
     "name": "stdout",
     "output_type": "stream",
     "text": [
      "['Close', 'High', 'Open', 'Low']\n",
      "Order = 1\n",
      "AIC:  -30.456225115004134\n",
      "BIC:  -30.125239705484084\n",
      "\n",
      "Order = 2\n",
      "AIC:  -30.42108992042171\n",
      "BIC:  -29.823223187568157\n",
      "\n",
      "Order = 3\n",
      "AIC:  -30.38176935677695\n",
      "BIC:  -29.515136900460323\n",
      "\n",
      "Order = 4\n",
      "AIC:  -30.345264209399897\n",
      "BIC:  -29.20795912354441\n",
      "\n",
      "Order = 5\n",
      "AIC:  -30.221295669245055\n",
      "BIC:  -28.81138816709452\n",
      "\n",
      "Order = 6\n",
      "AIC:  -30.211946306107176\n",
      "BIC:  -28.527483337517832\n",
      "\n",
      "Order = 7\n",
      "AIC:  -30.173671264866446\n",
      "BIC:  -28.212676125421023\n",
      "\n",
      "Order = 8\n",
      "AIC:  -30.145018311064057\n",
      "BIC:  -27.905490242794958\n",
      "\n",
      "Order = 9\n",
      "AIC:  -30.176837963139697\n",
      "BIC:  -27.656751746642833\n",
      "\n",
      "Order = 10\n",
      "AIC:  -30.071234779126762\n",
      "BIC:  -27.26854031684087\n",
      "\n"
     ]
    }
   ],
   "source": [
    "perf,result,pred=cominbation(data1,listt)"
   ]
  },
  {
   "cell_type": "code",
   "execution_count": 12,
   "id": "24e45137-fb6b-4b93-9d7a-029d27638f6f",
   "metadata": {},
   "outputs": [
    {
     "data": {
      "text/html": [
       "<div>\n",
       "<style scoped>\n",
       "    .dataframe tbody tr th:only-of-type {\n",
       "        vertical-align: middle;\n",
       "    }\n",
       "\n",
       "    .dataframe tbody tr th {\n",
       "        vertical-align: top;\n",
       "    }\n",
       "\n",
       "    .dataframe thead th {\n",
       "        text-align: right;\n",
       "    }\n",
       "</style>\n",
       "<table border=\"1\" class=\"dataframe\">\n",
       "  <thead>\n",
       "    <tr style=\"text-align: right;\">\n",
       "      <th></th>\n",
       "      <th>Open</th>\n",
       "      <th>High</th>\n",
       "      <th>Low</th>\n",
       "      <th>Close</th>\n",
       "    </tr>\n",
       "  </thead>\n",
       "  <tbody>\n",
       "    <tr>\n",
       "      <th>0</th>\n",
       "      <td>0.130244</td>\n",
       "      <td>0.170833</td>\n",
       "      <td>0.159502</td>\n",
       "      <td>0.160685</td>\n",
       "    </tr>\n",
       "    <tr>\n",
       "      <th>1</th>\n",
       "      <td>0.119063</td>\n",
       "      <td>0.180197</td>\n",
       "      <td>0.173094</td>\n",
       "      <td>0.201775</td>\n",
       "    </tr>\n",
       "    <tr>\n",
       "      <th>2</th>\n",
       "      <td>0.198571</td>\n",
       "      <td>0.230763</td>\n",
       "      <td>0.223707</td>\n",
       "      <td>0.212445</td>\n",
       "    </tr>\n",
       "    <tr>\n",
       "      <th>3</th>\n",
       "      <td>0.190869</td>\n",
       "      <td>0.188874</td>\n",
       "      <td>0.208367</td>\n",
       "      <td>0.188120</td>\n",
       "    </tr>\n",
       "    <tr>\n",
       "      <th>4</th>\n",
       "      <td>0.174967</td>\n",
       "      <td>0.220774</td>\n",
       "      <td>0.209338</td>\n",
       "      <td>0.234990</td>\n",
       "    </tr>\n",
       "    <tr>\n",
       "      <th>...</th>\n",
       "      <td>...</td>\n",
       "      <td>...</td>\n",
       "      <td>...</td>\n",
       "      <td>...</td>\n",
       "    </tr>\n",
       "    <tr>\n",
       "      <th>223</th>\n",
       "      <td>0.858194</td>\n",
       "      <td>0.877529</td>\n",
       "      <td>0.840943</td>\n",
       "      <td>0.840864</td>\n",
       "    </tr>\n",
       "    <tr>\n",
       "      <th>224</th>\n",
       "      <td>0.817802</td>\n",
       "      <td>0.923385</td>\n",
       "      <td>0.898162</td>\n",
       "      <td>0.943662</td>\n",
       "    </tr>\n",
       "    <tr>\n",
       "      <th>225</th>\n",
       "      <td>0.874961</td>\n",
       "      <td>0.964731</td>\n",
       "      <td>0.959667</td>\n",
       "      <td>0.947103</td>\n",
       "    </tr>\n",
       "    <tr>\n",
       "      <th>226</th>\n",
       "      <td>0.942405</td>\n",
       "      <td>0.993548</td>\n",
       "      <td>1.000000</td>\n",
       "      <td>1.000000</td>\n",
       "    </tr>\n",
       "    <tr>\n",
       "      <th>227</th>\n",
       "      <td>1.000000</td>\n",
       "      <td>1.000000</td>\n",
       "      <td>0.988569</td>\n",
       "      <td>0.962271</td>\n",
       "    </tr>\n",
       "  </tbody>\n",
       "</table>\n",
       "<p>228 rows × 4 columns</p>\n",
       "</div>"
      ],
      "text/plain": [
       "         Open      High       Low     Close\n",
       "0    0.130244  0.170833  0.159502  0.160685\n",
       "1    0.119063  0.180197  0.173094  0.201775\n",
       "2    0.198571  0.230763  0.223707  0.212445\n",
       "3    0.190869  0.188874  0.208367  0.188120\n",
       "4    0.174967  0.220774  0.209338  0.234990\n",
       "..        ...       ...       ...       ...\n",
       "223  0.858194  0.877529  0.840943  0.840864\n",
       "224  0.817802  0.923385  0.898162  0.943662\n",
       "225  0.874961  0.964731  0.959667  0.947103\n",
       "226  0.942405  0.993548  1.000000  1.000000\n",
       "227  1.000000  1.000000  0.988569  0.962271\n",
       "\n",
       "[228 rows x 4 columns]"
      ]
     },
     "execution_count": 12,
     "metadata": {},
     "output_type": "execute_result"
    }
   ],
   "source": [
    "data1"
   ]
  },
  {
   "cell_type": "code",
   "execution_count": 13,
   "id": "48574f48-de68-4b16-90ce-99cf9a0d36e7",
   "metadata": {},
   "outputs": [
    {
     "data": {
      "text/html": [
       "<div>\n",
       "<style scoped>\n",
       "    .dataframe tbody tr th:only-of-type {\n",
       "        vertical-align: middle;\n",
       "    }\n",
       "\n",
       "    .dataframe tbody tr th {\n",
       "        vertical-align: top;\n",
       "    }\n",
       "\n",
       "    .dataframe thead th {\n",
       "        text-align: right;\n",
       "    }\n",
       "</style>\n",
       "<table border=\"1\" class=\"dataframe\">\n",
       "  <thead>\n",
       "    <tr style=\"text-align: right;\">\n",
       "      <th></th>\n",
       "      <th>Model</th>\n",
       "      <th>RMSE</th>\n",
       "      <th>MaPe</th>\n",
       "      <th>Lag</th>\n",
       "      <th>Test</th>\n",
       "    </tr>\n",
       "  </thead>\n",
       "  <tbody>\n",
       "    <tr>\n",
       "      <th>0</th>\n",
       "      <td>[Close, High, Open, Low]</td>\n",
       "      <td>0</td>\n",
       "      <td>0.283124</td>\n",
       "      <td>1</td>\n",
       "      <td>28</td>\n",
       "    </tr>\n",
       "  </tbody>\n",
       "</table>\n",
       "</div>"
      ],
      "text/plain": [
       "                      Model  RMSE      MaPe  Lag  Test\n",
       "0  [Close, High, Open, Low]     0  0.283124    1    28"
      ]
     },
     "execution_count": 13,
     "metadata": {},
     "output_type": "execute_result"
    }
   ],
   "source": [
    "perf"
   ]
  },
  {
   "cell_type": "code",
   "execution_count": null,
   "id": "0f5ea60e-56dc-4749-9aea-79c5dfe26db0",
   "metadata": {},
   "outputs": [],
   "source": []
  }
 ],
 "metadata": {
  "kernelspec": {
   "display_name": "Python 3 (ipykernel)",
   "language": "python",
   "name": "python3"
  },
  "language_info": {
   "codemirror_mode": {
    "name": "ipython",
    "version": 3
   },
   "file_extension": ".py",
   "mimetype": "text/x-python",
   "name": "python",
   "nbconvert_exporter": "python",
   "pygments_lexer": "ipython3",
   "version": "3.11.5"
  }
 },
 "nbformat": 4,
 "nbformat_minor": 5
}
