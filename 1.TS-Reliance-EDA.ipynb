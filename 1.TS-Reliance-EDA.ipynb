{
 "cells": [
  {
   "cell_type": "code",
   "execution_count": 1,
   "metadata": {},
   "outputs": [],
   "source": [
    "#!pip install yfinance"
   ]
  },
  {
   "cell_type": "code",
   "execution_count": 2,
   "metadata": {},
   "outputs": [
    {
     "name": "stderr",
     "output_type": "stream",
     "text": [
      "C:\\Users\\tiruk\\AppData\\Local\\Temp\\ipykernel_14664\\4287747936.py:4: FutureWarning: YF.download() has changed argument auto_adjust default to True\n",
      "  stk_data = yf.download(\"RELIANCE.NS\", start=\"2021-06-01\", end=\"2022-05-01\")\n",
      "[*********************100%***********************]  1 of 1 completed"
     ]
    },
    {
     "name": "stdout",
     "output_type": "stream",
     "text": [
      "Price             Close         High         Low         Open      Volume\n",
      "Ticker      RELIANCE.NS  RELIANCE.NS RELIANCE.NS  RELIANCE.NS RELIANCE.NS\n",
      "Date                                                                     \n",
      "2021-06-01   987.374878  1002.443386  977.177403   986.054647    28013832\n",
      "2021-06-02  1002.101929  1005.857676  981.957442   981.957442    24630162\n",
      "2021-06-03  1005.925964  1024.294990  999.757459  1011.092917    23974257\n",
      "2021-06-04   997.208069  1009.021575  994.362780  1008.270425    14468646\n",
      "2021-06-07  1014.006470  1020.653023  994.704227  1002.443367    16336573\n"
     ]
    },
    {
     "name": "stderr",
     "output_type": "stream",
     "text": [
      "\n"
     ]
    }
   ],
   "source": [
    "#pip install nsepy\n",
    "import yfinance as yf\n",
    "\n",
    "stk_data = yf.download(\"RELIANCE.NS\", start=\"2021-06-01\", end=\"2022-05-01\")\n",
    "print(stk_data.head())\n"
   ]
  },
  {
   "cell_type": "code",
   "execution_count": 3,
   "metadata": {},
   "outputs": [],
   "source": [
    "from Descriptive import Descriptive"
   ]
  },
  {
   "cell_type": "code",
   "execution_count": 4,
   "metadata": {},
   "outputs": [],
   "source": [
    "obj=Descriptive()"
   ]
  },
  {
   "cell_type": "code",
   "execution_count": 5,
   "metadata": {},
   "outputs": [
    {
     "name": "stdout",
     "output_type": "stream",
     "text": [
      "Data fetched successfully!\n",
      "                  Close         High         Low         Open    Volume\n",
      "Date                                                                   \n",
      "2021-06-01   987.374878  1002.443386  977.177403   986.054647  28013832\n",
      "2021-06-02  1002.101929  1005.857676  981.957442   981.957442  24630162\n",
      "2021-06-03  1005.925964  1024.294990  999.757459  1011.092917  23974257\n",
      "2021-06-04   997.208069  1009.021575  994.362780  1008.270425  14468646\n",
      "2021-06-07  1014.006470  1020.653023  994.704227  1002.443367  16336573\n"
     ]
    }
   ],
   "source": [
    "import pandas as pd\n",
    "# Flatten column MultiIndex if exists\n",
    "if isinstance(stk_data.columns, pd.MultiIndex):\n",
    "    stk_data.columns = [col[0] for col in stk_data.columns]\n",
    "\n",
    "# Check data\n",
    "print(\"Data fetched successfully!\")\n",
    "print(stk_data.head())\n"
   ]
  },
  {
   "cell_type": "code",
   "execution_count": 6,
   "metadata": {},
   "outputs": [
    {
     "name": "stdout",
     "output_type": "stream",
     "text": [
      "The Quantitative Data: ['Close', 'High', 'Low', 'Open', 'Volume']\n",
      "The Qualitative Data: []\n",
      "Quantitative Columns: ['Close', 'High', 'Low', 'Open', 'Volume']\n",
      "Qualitative Columns: []\n"
     ]
    }
   ],
   "source": [
    "# Initialize descriptive object\n",
    "obj = Descriptive()\n",
    "\n",
    "# Segment quantitative and qualitative columns\n",
    "quan, qual = obj.segreQuanQual(stk_data)\n",
    "print(\"Quantitative Columns:\", quan)\n",
    "print(\"Qualitative Columns:\", qual)"
   ]
  },
  {
   "cell_type": "code",
   "execution_count": 7,
   "metadata": {},
   "outputs": [],
   "source": [
    "# Run descriptive analysis\n",
    "des_data = obj.descriptive_Analysis(stk_data, quan)"
   ]
  },
  {
   "cell_type": "code",
   "execution_count": 8,
   "metadata": {},
   "outputs": [
    {
     "name": "stdout",
     "output_type": "stream",
     "text": [
      "\n",
      "Descriptive Analysis - Low Column:\n",
      "Null_count                 0\n",
      "NonNull_count            228\n",
      "Total_Count              228\n",
      "Mean             1078.567143\n",
      "Median           1081.897453\n",
      "Mode              921.082069\n",
      "Std                84.376167\n",
      "Min               921.082069\n",
      "Q1:25%           1005.624037\n",
      "Q2:50%           1081.897453\n",
      "Q3:75%           1140.485814\n",
      "Q4:100%          1272.772133\n",
      "IQR               134.861777\n",
      "1.5Rule           202.292666\n",
      "Lesser            803.331371\n",
      "Greater           1342.77848\n",
      "Name: Low, dtype: object\n"
     ]
    }
   ],
   "source": [
    "# Print specific column analysis\n",
    "print(\"\\nDescriptive Analysis - Low Column:\")\n",
    "print(des_data[\"Low\"])"
   ]
  },
  {
   "cell_type": "code",
   "execution_count": 9,
   "metadata": {},
   "outputs": [
    {
     "name": "stdout",
     "output_type": "stream",
     "text": [
      "\n",
      "Descriptive Analysis - High Column:\n",
      "Null_count                 0\n",
      "NonNull_count            228\n",
      "Total_Count              228\n",
      "Mean             1102.073772\n",
      "Median            1104.37344\n",
      "Mode              940.154713\n",
      "Std                87.618487\n",
      "Min               940.154713\n",
      "Q1:25%           1026.398352\n",
      "Q2:50%            1104.37344\n",
      "Q3:75%           1161.945328\n",
      "Q4:100%          1304.773022\n",
      "IQR               135.546976\n",
      "1.5Rule           203.320465\n",
      "Lesser            823.077887\n",
      "Greater          1365.265793\n",
      "Name: High, dtype: object\n"
     ]
    }
   ],
   "source": [
    "print(\"\\nDescriptive Analysis - High Column:\")\n",
    "print(des_data[\"High\"])"
   ]
  },
  {
   "cell_type": "code",
   "execution_count": 10,
   "metadata": {},
   "outputs": [
    {
     "name": "stdout",
     "output_type": "stream",
     "text": [
      "<class 'pandas.core.frame.DataFrame'>\n",
      "DatetimeIndex: 228 entries, 2021-06-01 to 2022-04-29\n",
      "Data columns (total 5 columns):\n",
      " #   Column  Non-Null Count  Dtype  \n",
      "---  ------  --------------  -----  \n",
      " 0   Close   228 non-null    float64\n",
      " 1   High    228 non-null    float64\n",
      " 2   Low     228 non-null    float64\n",
      " 3   Open    228 non-null    float64\n",
      " 4   Volume  228 non-null    int64  \n",
      "dtypes: float64(4), int64(1)\n",
      "memory usage: 10.7 KB\n"
     ]
    }
   ],
   "source": [
    "stk_data.info()"
   ]
  },
  {
   "cell_type": "code",
   "execution_count": 11,
   "metadata": {},
   "outputs": [
    {
     "data": {
      "text/html": [
       "<div>\n",
       "<style scoped>\n",
       "    .dataframe tbody tr th:only-of-type {\n",
       "        vertical-align: middle;\n",
       "    }\n",
       "\n",
       "    .dataframe tbody tr th {\n",
       "        vertical-align: top;\n",
       "    }\n",
       "\n",
       "    .dataframe thead th {\n",
       "        text-align: right;\n",
       "    }\n",
       "</style>\n",
       "<table border=\"1\" class=\"dataframe\">\n",
       "  <thead>\n",
       "    <tr style=\"text-align: right;\">\n",
       "      <th></th>\n",
       "      <th>Close</th>\n",
       "      <th>High</th>\n",
       "      <th>Low</th>\n",
       "      <th>Open</th>\n",
       "      <th>Volume</th>\n",
       "    </tr>\n",
       "    <tr>\n",
       "      <th>Date</th>\n",
       "      <th></th>\n",
       "      <th></th>\n",
       "      <th></th>\n",
       "      <th></th>\n",
       "      <th></th>\n",
       "    </tr>\n",
       "  </thead>\n",
       "  <tbody>\n",
       "    <tr>\n",
       "      <th>2021-06-01</th>\n",
       "      <td>987.374878</td>\n",
       "      <td>1002.443386</td>\n",
       "      <td>977.177403</td>\n",
       "      <td>986.054647</td>\n",
       "      <td>28013832</td>\n",
       "    </tr>\n",
       "    <tr>\n",
       "      <th>2021-06-02</th>\n",
       "      <td>1002.101929</td>\n",
       "      <td>1005.857676</td>\n",
       "      <td>981.957442</td>\n",
       "      <td>981.957442</td>\n",
       "      <td>24630162</td>\n",
       "    </tr>\n",
       "    <tr>\n",
       "      <th>2021-06-03</th>\n",
       "      <td>1005.925964</td>\n",
       "      <td>1024.294990</td>\n",
       "      <td>999.757459</td>\n",
       "      <td>1011.092917</td>\n",
       "      <td>23974257</td>\n",
       "    </tr>\n",
       "    <tr>\n",
       "      <th>2021-06-04</th>\n",
       "      <td>997.208069</td>\n",
       "      <td>1009.021575</td>\n",
       "      <td>994.362780</td>\n",
       "      <td>1008.270425</td>\n",
       "      <td>14468646</td>\n",
       "    </tr>\n",
       "    <tr>\n",
       "      <th>2021-06-07</th>\n",
       "      <td>1014.006470</td>\n",
       "      <td>1020.653023</td>\n",
       "      <td>994.704227</td>\n",
       "      <td>1002.443367</td>\n",
       "      <td>16336573</td>\n",
       "    </tr>\n",
       "    <tr>\n",
       "      <th>...</th>\n",
       "      <td>...</td>\n",
       "      <td>...</td>\n",
       "      <td>...</td>\n",
       "      <td>...</td>\n",
       "      <td>...</td>\n",
       "    </tr>\n",
       "    <tr>\n",
       "      <th>2022-04-25</th>\n",
       "      <td>1231.155029</td>\n",
       "      <td>1260.117952</td>\n",
       "      <td>1216.833432</td>\n",
       "      <td>1252.808769</td>\n",
       "      <td>17063215</td>\n",
       "    </tr>\n",
       "    <tr>\n",
       "      <th>2022-04-26</th>\n",
       "      <td>1267.998169</td>\n",
       "      <td>1276.837847</td>\n",
       "      <td>1236.956647</td>\n",
       "      <td>1238.007307</td>\n",
       "      <td>12227666</td>\n",
       "    </tr>\n",
       "    <tr>\n",
       "      <th>2022-04-27</th>\n",
       "      <td>1269.231689</td>\n",
       "      <td>1291.913249</td>\n",
       "      <td>1258.587463</td>\n",
       "      <td>1258.952988</td>\n",
       "      <td>19338945</td>\n",
       "    </tr>\n",
       "    <tr>\n",
       "      <th>2022-04-28</th>\n",
       "      <td>1288.190186</td>\n",
       "      <td>1302.420431</td>\n",
       "      <td>1272.772133</td>\n",
       "      <td>1283.667576</td>\n",
       "      <td>25614076</td>\n",
       "    </tr>\n",
       "    <tr>\n",
       "      <th>2022-04-29</th>\n",
       "      <td>1274.667969</td>\n",
       "      <td>1304.773022</td>\n",
       "      <td>1268.752012</td>\n",
       "      <td>1304.773022</td>\n",
       "      <td>18214862</td>\n",
       "    </tr>\n",
       "  </tbody>\n",
       "</table>\n",
       "<p>228 rows × 5 columns</p>\n",
       "</div>"
      ],
      "text/plain": [
       "                  Close         High          Low         Open    Volume\n",
       "Date                                                                    \n",
       "2021-06-01   987.374878  1002.443386   977.177403   986.054647  28013832\n",
       "2021-06-02  1002.101929  1005.857676   981.957442   981.957442  24630162\n",
       "2021-06-03  1005.925964  1024.294990   999.757459  1011.092917  23974257\n",
       "2021-06-04   997.208069  1009.021575   994.362780  1008.270425  14468646\n",
       "2021-06-07  1014.006470  1020.653023   994.704227  1002.443367  16336573\n",
       "...                 ...          ...          ...          ...       ...\n",
       "2022-04-25  1231.155029  1260.117952  1216.833432  1252.808769  17063215\n",
       "2022-04-26  1267.998169  1276.837847  1236.956647  1238.007307  12227666\n",
       "2022-04-27  1269.231689  1291.913249  1258.587463  1258.952988  19338945\n",
       "2022-04-28  1288.190186  1302.420431  1272.772133  1283.667576  25614076\n",
       "2022-04-29  1274.667969  1304.773022  1268.752012  1304.773022  18214862\n",
       "\n",
       "[228 rows x 5 columns]"
      ]
     },
     "execution_count": 11,
     "metadata": {},
     "output_type": "execute_result"
    }
   ],
   "source": [
    "stk_data"
   ]
  },
  {
   "cell_type": "code",
   "execution_count": 12,
   "metadata": {},
   "outputs": [],
   "source": [
    "low=stk_data[\"Low\"]"
   ]
  },
  {
   "cell_type": "code",
   "execution_count": 13,
   "metadata": {},
   "outputs": [
    {
     "name": "stdout",
     "output_type": "stream",
     "text": [
      "The Quantitative Data: ['Close', 'High', 'Low', 'Open', 'Volume']\n",
      "The Qualitative Data: []\n"
     ]
    }
   ],
   "source": [
    "dataset=stk_data\n",
    "quan,qual=obj.segreQuanQual(dataset)"
   ]
  },
  {
   "cell_type": "code",
   "execution_count": 14,
   "metadata": {},
   "outputs": [],
   "source": [
    "des_data=obj.descriptive_Analysis(dataset,quan)"
   ]
  },
  {
   "cell_type": "code",
   "execution_count": 15,
   "metadata": {},
   "outputs": [
    {
     "data": {
      "text/html": [
       "<div>\n",
       "<style scoped>\n",
       "    .dataframe tbody tr th:only-of-type {\n",
       "        vertical-align: middle;\n",
       "    }\n",
       "\n",
       "    .dataframe tbody tr th {\n",
       "        vertical-align: top;\n",
       "    }\n",
       "\n",
       "    .dataframe thead th {\n",
       "        text-align: right;\n",
       "    }\n",
       "</style>\n",
       "<table border=\"1\" class=\"dataframe\">\n",
       "  <thead>\n",
       "    <tr style=\"text-align: right;\">\n",
       "      <th></th>\n",
       "      <th>Close</th>\n",
       "      <th>High</th>\n",
       "      <th>Low</th>\n",
       "      <th>Open</th>\n",
       "      <th>Volume</th>\n",
       "    </tr>\n",
       "  </thead>\n",
       "  <tbody>\n",
       "    <tr>\n",
       "      <th>Null_count</th>\n",
       "      <td>0</td>\n",
       "      <td>0</td>\n",
       "      <td>0</td>\n",
       "      <td>0</td>\n",
       "      <td>0</td>\n",
       "    </tr>\n",
       "    <tr>\n",
       "      <th>NonNull_count</th>\n",
       "      <td>228</td>\n",
       "      <td>228</td>\n",
       "      <td>228</td>\n",
       "      <td>228</td>\n",
       "      <td>228</td>\n",
       "    </tr>\n",
       "    <tr>\n",
       "      <th>Total_Count</th>\n",
       "      <td>228</td>\n",
       "      <td>228</td>\n",
       "      <td>228</td>\n",
       "      <td>228</td>\n",
       "      <td>228</td>\n",
       "    </tr>\n",
       "    <tr>\n",
       "      <th>Mean</th>\n",
       "      <td>1090.311199</td>\n",
       "      <td>1102.073772</td>\n",
       "      <td>1078.567143</td>\n",
       "      <td>1090.295965</td>\n",
       "      <td>14502344.684211</td>\n",
       "    </tr>\n",
       "    <tr>\n",
       "      <th>Median</th>\n",
       "      <td>1093.32959</td>\n",
       "      <td>1104.37344</td>\n",
       "      <td>1081.897453</td>\n",
       "      <td>1096.390333</td>\n",
       "      <td>12684369.5</td>\n",
       "    </tr>\n",
       "    <tr>\n",
       "      <th>Mode</th>\n",
       "      <td>952.945923</td>\n",
       "      <td>940.154713</td>\n",
       "      <td>921.082069</td>\n",
       "      <td>938.327369</td>\n",
       "      <td>1705656</td>\n",
       "    </tr>\n",
       "    <tr>\n",
       "      <th>Std</th>\n",
       "      <td>86.294709</td>\n",
       "      <td>87.618487</td>\n",
       "      <td>84.376167</td>\n",
       "      <td>85.603521</td>\n",
       "      <td>8323838.967756</td>\n",
       "    </tr>\n",
       "    <tr>\n",
       "      <th>Min</th>\n",
       "      <td>929.784668</td>\n",
       "      <td>940.154713</td>\n",
       "      <td>921.082069</td>\n",
       "      <td>938.327369</td>\n",
       "      <td>1705656.0</td>\n",
       "    </tr>\n",
       "    <tr>\n",
       "      <th>Q1:25%</th>\n",
       "      <td>1017.353104</td>\n",
       "      <td>1026.398352</td>\n",
       "      <td>1005.624037</td>\n",
       "      <td>1015.915758</td>\n",
       "      <td>9959014.0</td>\n",
       "    </tr>\n",
       "    <tr>\n",
       "      <th>Q2:50%</th>\n",
       "      <td>1093.32959</td>\n",
       "      <td>1104.37344</td>\n",
       "      <td>1081.897453</td>\n",
       "      <td>1096.390333</td>\n",
       "      <td>12684369.5</td>\n",
       "    </tr>\n",
       "    <tr>\n",
       "      <th>Q3:75%</th>\n",
       "      <td>1152.985687</td>\n",
       "      <td>1161.945328</td>\n",
       "      <td>1140.485814</td>\n",
       "      <td>1151.980789</td>\n",
       "      <td>16231663.0</td>\n",
       "    </tr>\n",
       "    <tr>\n",
       "      <th>Q4:100%</th>\n",
       "      <td>1288.190186</td>\n",
       "      <td>1304.773022</td>\n",
       "      <td>1272.772133</td>\n",
       "      <td>1304.773022</td>\n",
       "      <td>91461975.0</td>\n",
       "    </tr>\n",
       "    <tr>\n",
       "      <th>IQR</th>\n",
       "      <td>135.632584</td>\n",
       "      <td>135.546976</td>\n",
       "      <td>134.861777</td>\n",
       "      <td>136.065031</td>\n",
       "      <td>6272649.0</td>\n",
       "    </tr>\n",
       "    <tr>\n",
       "      <th>1.5Rule</th>\n",
       "      <td>203.448875</td>\n",
       "      <td>203.320465</td>\n",
       "      <td>202.292666</td>\n",
       "      <td>204.097547</td>\n",
       "      <td>9408973.5</td>\n",
       "    </tr>\n",
       "    <tr>\n",
       "      <th>Lesser</th>\n",
       "      <td>813.904228</td>\n",
       "      <td>823.077887</td>\n",
       "      <td>803.331371</td>\n",
       "      <td>811.818211</td>\n",
       "      <td>550040.5</td>\n",
       "    </tr>\n",
       "    <tr>\n",
       "      <th>Greater</th>\n",
       "      <td>1356.434563</td>\n",
       "      <td>1365.265793</td>\n",
       "      <td>1342.77848</td>\n",
       "      <td>1356.078336</td>\n",
       "      <td>25640636.5</td>\n",
       "    </tr>\n",
       "  </tbody>\n",
       "</table>\n",
       "</div>"
      ],
      "text/plain": [
       "                     Close         High          Low         Open  \\\n",
       "Null_count               0            0            0            0   \n",
       "NonNull_count          228          228          228          228   \n",
       "Total_Count            228          228          228          228   \n",
       "Mean           1090.311199  1102.073772  1078.567143  1090.295965   \n",
       "Median          1093.32959   1104.37344  1081.897453  1096.390333   \n",
       "Mode            952.945923   940.154713   921.082069   938.327369   \n",
       "Std              86.294709    87.618487    84.376167    85.603521   \n",
       "Min             929.784668   940.154713   921.082069   938.327369   \n",
       "Q1:25%         1017.353104  1026.398352  1005.624037  1015.915758   \n",
       "Q2:50%          1093.32959   1104.37344  1081.897453  1096.390333   \n",
       "Q3:75%         1152.985687  1161.945328  1140.485814  1151.980789   \n",
       "Q4:100%        1288.190186  1304.773022  1272.772133  1304.773022   \n",
       "IQR             135.632584   135.546976   134.861777   136.065031   \n",
       "1.5Rule         203.448875   203.320465   202.292666   204.097547   \n",
       "Lesser          813.904228   823.077887   803.331371   811.818211   \n",
       "Greater        1356.434563  1365.265793   1342.77848  1356.078336   \n",
       "\n",
       "                        Volume  \n",
       "Null_count                   0  \n",
       "NonNull_count              228  \n",
       "Total_Count                228  \n",
       "Mean           14502344.684211  \n",
       "Median              12684369.5  \n",
       "Mode                   1705656  \n",
       "Std             8323838.967756  \n",
       "Min                  1705656.0  \n",
       "Q1:25%               9959014.0  \n",
       "Q2:50%              12684369.5  \n",
       "Q3:75%              16231663.0  \n",
       "Q4:100%             91461975.0  \n",
       "IQR                  6272649.0  \n",
       "1.5Rule              9408973.5  \n",
       "Lesser                550040.5  \n",
       "Greater             25640636.5  "
      ]
     },
     "execution_count": 15,
     "metadata": {},
     "output_type": "execute_result"
    }
   ],
   "source": [
    "des_data"
   ]
  },
  {
   "cell_type": "code",
   "execution_count": 16,
   "metadata": {},
   "outputs": [],
   "source": [
    "import seaborn as sns\n",
    "import matplotlib.pyplot as plt\n",
    "import numpy as np\n",
    "from scipy.stats import norm\n",
    "def get_pdf_probability(dataset, startrange, endrange):\n",
    "    sample = dataset\n",
    "    sample_mean = sample.mean()\n",
    "    sample_std = sample.std()\n",
    "\n",
    "    print(f'Mean={sample_mean:.3f}, Std Dev={sample_std:.3f}')\n",
    "    \n",
    "    # Plot\n",
    "    sns.histplot(sample, kde=True, stat=\"density\", color='green')\n",
    "    plt.axvline(startrange, color='red')\n",
    "    plt.axvline(endrange, color='red')\n",
    "    \n",
    "    # Define normal distribution\n",
    "    dist = norm(sample_mean, sample_std)\n",
    "    values = np.arange(startrange, endrange)\n",
    "    probabilities = dist.pdf(values)\n",
    "    prob = sum(probabilities)\n",
    "    \n",
    "    print(f\"Area between {startrange} and {endrange}: {prob:.5f}\")\n",
    "    plt.show()\n",
    "    return prob\n"
   ]
  },
  {
   "cell_type": "code",
   "execution_count": 17,
   "metadata": {},
   "outputs": [
    {
     "name": "stdout",
     "output_type": "stream",
     "text": [
      "Mean=1078.567, Std Dev=84.376\n",
      "Area between 1000 and 1050: 0.19088\n"
     ]
    },
    {
     "data": {
      "image/png": "[encoded data removed]",
      "text/plain": [
       "<Figure size 640x480 with 1 Axes>"
      ]
     },
     "metadata": {},
     "output_type": "display_data"
    },
    {
     "data": {
      "text/plain": [
       "0.19087885528385087"
      ]
     },
     "execution_count": 17,
     "metadata": {},
     "output_type": "execute_result"
    }
   ],
   "source": [
    "get_pdf_probability(dataset[\"Low\"], 1000, 1050)\n"
   ]
  },
  {
   "cell_type": "code",
   "execution_count": 18,
   "metadata": {},
   "outputs": [],
   "source": [
    "def stdNBgraph(data):\n",
    "    mean = data.mean()\n",
    "    std = data.std()\n",
    "    z_scores = [(x - mean) / std for x in data]\n",
    "    sns.histplot(z_scores, kde=True, stat=\"density\", color='purple')\n",
    "    plt.title(\"Standard Normal Distribution\")\n",
    "    plt.show()\n"
   ]
  },
  {
   "cell_type": "code",
   "execution_count": 19,
   "metadata": {},
   "outputs": [
    {
     "data": {
      "image/png": "[encoded data removed]",
      "text/plain": [
       "<Figure size 640x480 with 1 Axes>"
      ]
     },
     "metadata": {},
     "output_type": "display_data"
    }
   ],
   "source": [
    "stdNBgraph(dataset[\"Low\"])\n"
   ]
  },
  {
   "cell_type": "code",
   "execution_count": 20,
   "metadata": {},
   "outputs": [],
   "source": [
    "def freqTable(columnName, dataset):\n",
    "    frq = pd.DataFrame()\n",
    "    frq[\"Unique_Values\"] = dataset[columnName].value_counts().index\n",
    "    frq[\"Frequency\"] = dataset[columnName].value_counts().values\n",
    "    frq[\"Relative_Fre\"] = dataset[columnName].value_counts().values / len(dataset[columnName]) * 100\n",
    "    frq[\"Cumulative\"] = frq[\"Relative_Fre\"].cumsum()\n",
    "    return frq\n"
   ]
  },
  {
   "cell_type": "code",
   "execution_count": 21,
   "metadata": {},
   "outputs": [
    {
     "name": "stdout",
     "output_type": "stream",
     "text": [
      "Series([], Name: Unique_Values, dtype: float64)\n"
     ]
    }
   ],
   "source": [
    "fh = freqTable(\"High\", dataset)\n",
    "fh_sorted = fh.sort_values(by=\"Frequency\", ascending=False)\n",
    "fhs = fh_sorted[fh_sorted[\"Frequency\"] == 2][\"Unique_Values\"].sort_values(ascending=False)\n",
    "print(fhs)\n"
   ]
  },
  {
   "cell_type": "code",
   "execution_count": null,
   "metadata": {},
   "outputs": [],
   "source": []
  },
  {
   "cell_type": "code",
   "execution_count": null,
   "metadata": {},
   "outputs": [],
   "source": []
  }
 ],
 "metadata": {
  "kernelspec": {
   "display_name": "Python 3 (ipykernel)",
   "language": "python",
   "name": "python3"
  },
  "language_info": {
   "codemirror_mode": {
    "name": "ipython",
    "version": 3
   },
   "file_extension": ".py",
   "mimetype": "text/x-python",
   "name": "python",
   "nbconvert_exporter": "python",
   "pygments_lexer": "ipython3",
   "version": "3.11.5"
  }
 },
 "nbformat": 4,
 "nbformat_minor": 4
}
